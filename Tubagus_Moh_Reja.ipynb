{
 "cells": [
  {
   "cell_type": "markdown",
   "metadata": {},
   "source": [
    "# 1. KONTEKS"
   ]
  },
  {
   "cell_type": "code",
   "execution_count": 1,
   "metadata": {},
   "outputs": [],
   "source": [
    "#Importing Libraries\n",
    "#Basic libraries\n",
    "import pandas as pd\n",
    "import numpy as np\n",
    "from numpy import argmax\n",
    "import matplotlib.pyplot as plt\n",
    "import seaborn as sns\n",
    "import datetime\n",
    "import math\n",
    "from datetime import date\n",
    "from scipy import stats\n",
    "\n",
    "#Fetaure Selection\n",
    "from sklearn.feature_selection import SelectKBest\n",
    "from sklearn.feature_selection import f_classif\n",
    "\n",
    "#Imbalance Dataset\n",
    "from imblearn.over_sampling import SMOTE\n",
    "from imblearn.under_sampling import RandomUnderSampler\n",
    "from imblearn.pipeline import Pipeline\n",
    "\n",
    "#Model Evaluation\n",
    "from sklearn.preprocessing import StandardScaler, LabelEncoder\n",
    "from sklearn.model_selection import train_test_split\n",
    "from sklearn.metrics import confusion_matrix, classification_report, plot_confusion_matrix, f1_score,auc,roc_curve,roc_auc_score, precision_recall_curve\n",
    "import scikitplot as skplt\n",
    "\n",
    "#Modelling Algoritm\n",
    "from sklearn.model_selection import GridSearchCV, RandomizedSearchCV\n",
    "from sklearn.linear_model import LogisticRegression\n",
    "from sklearn.naive_bayes import GaussianNB\n",
    "from sklearn.neighbors import KNeighborsClassifier\n",
    "from sklearn.ensemble import RandomForestClassifier\n",
    "from xgboost import XGBClassifier\n",
    "\n",
    "#Deployment\n",
    "import pickle"
   ]
  },
  {
   "cell_type": "code",
   "execution_count": 2,
   "metadata": {},
   "outputs": [],
   "source": [
    "# memuat data\n",
    "df_installment = pd.read_csv('installment_payment.csv') # data \n",
    "df_installment.drop(columns={'Unnamed: 0'},inplace=True)\n",
    "df_prev = pd.read_csv('prev_app.csv')\n",
    "df_prev.drop(columns={'Unnamed: 0'},inplace=True)\n",
    "df_desc = pd.read_csv('columns_description.csv')"
   ]
  },
  {
   "cell_type": "code",
   "execution_count": 3,
   "metadata": {},
   "outputs": [
    {
     "data": {
      "text/html": [
       "<div>\n",
       "<style scoped>\n",
       "    .dataframe tbody tr th:only-of-type {\n",
       "        vertical-align: middle;\n",
       "    }\n",
       "\n",
       "    .dataframe tbody tr th {\n",
       "        vertical-align: top;\n",
       "    }\n",
       "\n",
       "    .dataframe thead th {\n",
       "        text-align: right;\n",
       "    }\n",
       "</style>\n",
       "<table border=\"1\" class=\"dataframe\">\n",
       "  <thead>\n",
       "    <tr style=\"text-align: right;\">\n",
       "      <th></th>\n",
       "      <th>SK_ID_PREV</th>\n",
       "      <th>LN_ID</th>\n",
       "      <th>INST_NUMBER</th>\n",
       "      <th>INST_DAYS</th>\n",
       "      <th>PAY_DAYS</th>\n",
       "      <th>AMT_INST</th>\n",
       "      <th>AMT_PAY</th>\n",
       "    </tr>\n",
       "  </thead>\n",
       "  <tbody>\n",
       "    <tr>\n",
       "      <th>0</th>\n",
       "      <td>1137312</td>\n",
       "      <td>164489</td>\n",
       "      <td>12</td>\n",
       "      <td>-1384.0</td>\n",
       "      <td>-1417.0</td>\n",
       "      <td>5970.375</td>\n",
       "      <td>5970.375</td>\n",
       "    </tr>\n",
       "    <tr>\n",
       "      <th>1</th>\n",
       "      <td>2723183</td>\n",
       "      <td>112102</td>\n",
       "      <td>14</td>\n",
       "      <td>-197.0</td>\n",
       "      <td>-197.0</td>\n",
       "      <td>70.740</td>\n",
       "      <td>70.740</td>\n",
       "    </tr>\n",
       "    <tr>\n",
       "      <th>2</th>\n",
       "      <td>2558880</td>\n",
       "      <td>154793</td>\n",
       "      <td>8</td>\n",
       "      <td>-1262.0</td>\n",
       "      <td>-1269.0</td>\n",
       "      <td>15031.080</td>\n",
       "      <td>15031.080</td>\n",
       "    </tr>\n",
       "    <tr>\n",
       "      <th>3</th>\n",
       "      <td>1410565</td>\n",
       "      <td>197687</td>\n",
       "      <td>1</td>\n",
       "      <td>-1037.0</td>\n",
       "      <td>-1048.0</td>\n",
       "      <td>12514.050</td>\n",
       "      <td>12510.450</td>\n",
       "    </tr>\n",
       "    <tr>\n",
       "      <th>4</th>\n",
       "      <td>2391610</td>\n",
       "      <td>183431</td>\n",
       "      <td>20</td>\n",
       "      <td>-1680.0</td>\n",
       "      <td>-1693.0</td>\n",
       "      <td>7875.000</td>\n",
       "      <td>7875.000</td>\n",
       "    </tr>\n",
       "    <tr>\n",
       "      <th>...</th>\n",
       "      <td>...</td>\n",
       "      <td>...</td>\n",
       "      <td>...</td>\n",
       "      <td>...</td>\n",
       "      <td>...</td>\n",
       "      <td>...</td>\n",
       "      <td>...</td>\n",
       "    </tr>\n",
       "    <tr>\n",
       "      <th>2872301</th>\n",
       "      <td>1024845</td>\n",
       "      <td>407119</td>\n",
       "      <td>5</td>\n",
       "      <td>-224.0</td>\n",
       "      <td>-230.0</td>\n",
       "      <td>24819.660</td>\n",
       "      <td>24819.660</td>\n",
       "    </tr>\n",
       "    <tr>\n",
       "      <th>2872302</th>\n",
       "      <td>2597827</td>\n",
       "      <td>448211</td>\n",
       "      <td>18</td>\n",
       "      <td>-44.0</td>\n",
       "      <td>-44.0</td>\n",
       "      <td>915.795</td>\n",
       "      <td>915.795</td>\n",
       "    </tr>\n",
       "    <tr>\n",
       "      <th>2872303</th>\n",
       "      <td>2003162</td>\n",
       "      <td>450999</td>\n",
       "      <td>16</td>\n",
       "      <td>-2135.0</td>\n",
       "      <td>-2113.0</td>\n",
       "      <td>5414.265</td>\n",
       "      <td>5384.880</td>\n",
       "    </tr>\n",
       "    <tr>\n",
       "      <th>2872304</th>\n",
       "      <td>2149043</td>\n",
       "      <td>415032</td>\n",
       "      <td>9</td>\n",
       "      <td>-425.0</td>\n",
       "      <td>-434.0</td>\n",
       "      <td>46517.490</td>\n",
       "      <td>46517.490</td>\n",
       "    </tr>\n",
       "    <tr>\n",
       "      <th>2872305</th>\n",
       "      <td>1320649</td>\n",
       "      <td>437421</td>\n",
       "      <td>12</td>\n",
       "      <td>-9.0</td>\n",
       "      <td>NaN</td>\n",
       "      <td>5210.235</td>\n",
       "      <td>NaN</td>\n",
       "    </tr>\n",
       "  </tbody>\n",
       "</table>\n",
       "<p>2872306 rows × 7 columns</p>\n",
       "</div>"
      ],
      "text/plain": [
       "         SK_ID_PREV   LN_ID  INST_NUMBER  INST_DAYS  PAY_DAYS   AMT_INST  \\\n",
       "0           1137312  164489           12    -1384.0   -1417.0   5970.375   \n",
       "1           2723183  112102           14     -197.0    -197.0     70.740   \n",
       "2           2558880  154793            8    -1262.0   -1269.0  15031.080   \n",
       "3           1410565  197687            1    -1037.0   -1048.0  12514.050   \n",
       "4           2391610  183431           20    -1680.0   -1693.0   7875.000   \n",
       "...             ...     ...          ...        ...       ...        ...   \n",
       "2872301     1024845  407119            5     -224.0    -230.0  24819.660   \n",
       "2872302     2597827  448211           18      -44.0     -44.0    915.795   \n",
       "2872303     2003162  450999           16    -2135.0   -2113.0   5414.265   \n",
       "2872304     2149043  415032            9     -425.0    -434.0  46517.490   \n",
       "2872305     1320649  437421           12       -9.0       NaN   5210.235   \n",
       "\n",
       "           AMT_PAY  \n",
       "0         5970.375  \n",
       "1           70.740  \n",
       "2        15031.080  \n",
       "3        12510.450  \n",
       "4         7875.000  \n",
       "...            ...  \n",
       "2872301  24819.660  \n",
       "2872302    915.795  \n",
       "2872303   5384.880  \n",
       "2872304  46517.490  \n",
       "2872305        NaN  \n",
       "\n",
       "[2872306 rows x 7 columns]"
      ]
     },
     "execution_count": 3,
     "metadata": {},
     "output_type": "execute_result"
    }
   ],
   "source": [
    "df_installment"
   ]
  },
  {
   "cell_type": "markdown",
   "metadata": {},
   "source": [
    "Dataset installment_payment.csv adalah data histori dari tiap pinjaman (LN_ID) yang ada pada data training dan test, dan berikut adalah penjelasan pada kolom - kolom di dataset :\n",
    " -  SK_ID_PREV : ID dari pinjaman histori pada LN_ID tertentu (tiap LN_ID bisa memiliki 0,1 atau lebih SK_ID_PREV)\n",
    " -  LN_ID : ID Pinjaman aktif / sedang berjalan pada data training dan test\n",
    " -  INST_NUMBER : Cicilan keberapa yg diamati pada tiap SK_ID_PREV, e.g 1 berarti cicilan pertama, 2 berarti cicilan ke dua\n",
    " -  INST_DAYS : jatuh tempo dari cicilan pada pinjaman sebelumnya (dalam hari), e.g -176 berarti pinjaman tersebut seharusnya dibayar 176 hari yang lalu.\n",
    " -  PAY_DAYS : kapan cicilan tersebut dibayarkan oleh peminjam.\n",
    " -  AMT_INST : jumlah cicilan yang harus dibayar oleh peminjam.\n",
    " -  AMT_PAY : jumlah cicilan yg dibayar oleh peminjam.\n",
    " "
   ]
  },
  {
   "cell_type": "markdown",
   "metadata": {},
   "source": [
    "Berdasarkan kolom di atas kita dapat manrik informasi penting dari dataset ini seperti :\n",
    " - Berdasarkan data histori pinjaman, berapa kali / pernahkah peminjam telat bayar (over due) atau bayar tepat waktu, ini dapat dijadikan score bagi peminjam baik score positif maupun negatif.\n",
    " - Berdasarkan data histori, berapa kali / pernahkah peminjam membayar kredit nya lebih/kurang dari jumlah yang harus dibayar."
   ]
  },
  {
   "cell_type": "code",
   "execution_count": 4,
   "metadata": {},
   "outputs": [
    {
     "data": {
      "text/html": [
       "<div>\n",
       "<style scoped>\n",
       "    .dataframe tbody tr th:only-of-type {\n",
       "        vertical-align: middle;\n",
       "    }\n",
       "\n",
       "    .dataframe tbody tr th {\n",
       "        vertical-align: top;\n",
       "    }\n",
       "\n",
       "    .dataframe thead th {\n",
       "        text-align: right;\n",
       "    }\n",
       "</style>\n",
       "<table border=\"1\" class=\"dataframe\">\n",
       "  <thead>\n",
       "    <tr style=\"text-align: right;\">\n",
       "      <th></th>\n",
       "      <th>SK_ID_PREV</th>\n",
       "      <th>LN_ID</th>\n",
       "      <th>CONTRACT_TYPE</th>\n",
       "      <th>ANNUITY</th>\n",
       "      <th>APPLICATION</th>\n",
       "      <th>APPROVED_CREDIT</th>\n",
       "      <th>AMT_DOWN_PAYMENT</th>\n",
       "      <th>PRICE</th>\n",
       "      <th>WEEKDAYS_APPLY</th>\n",
       "      <th>HOUR_APPLY</th>\n",
       "      <th>CONTRACT_STATUS</th>\n",
       "      <th>DAYS_DECISION</th>\n",
       "      <th>TERM_PAYMENT</th>\n",
       "      <th>YIELD_GROUP</th>\n",
       "      <th>FIRST_DRAW</th>\n",
       "      <th>FIRST_DUE</th>\n",
       "      <th>TERMINATION</th>\n",
       "      <th>NFLAG_INSURED_ON_APPROVAL</th>\n",
       "    </tr>\n",
       "  </thead>\n",
       "  <tbody>\n",
       "    <tr>\n",
       "      <th>0</th>\n",
       "      <td>2030495</td>\n",
       "      <td>271877</td>\n",
       "      <td>Consumer loans</td>\n",
       "      <td>1730.430</td>\n",
       "      <td>17145.0</td>\n",
       "      <td>17145.0</td>\n",
       "      <td>0.0</td>\n",
       "      <td>17145.0</td>\n",
       "      <td>SATURDAY</td>\n",
       "      <td>15</td>\n",
       "      <td>Approved</td>\n",
       "      <td>-73</td>\n",
       "      <td>12.0</td>\n",
       "      <td>middle</td>\n",
       "      <td>365243.0</td>\n",
       "      <td>-42.0</td>\n",
       "      <td>-37.0</td>\n",
       "      <td>0.0</td>\n",
       "    </tr>\n",
       "    <tr>\n",
       "      <th>1</th>\n",
       "      <td>2819243</td>\n",
       "      <td>176158</td>\n",
       "      <td>Cash loans</td>\n",
       "      <td>47041.335</td>\n",
       "      <td>450000.0</td>\n",
       "      <td>470790.0</td>\n",
       "      <td>NaN</td>\n",
       "      <td>450000.0</td>\n",
       "      <td>MONDAY</td>\n",
       "      <td>7</td>\n",
       "      <td>Approved</td>\n",
       "      <td>-512</td>\n",
       "      <td>12.0</td>\n",
       "      <td>middle</td>\n",
       "      <td>365243.0</td>\n",
       "      <td>-482.0</td>\n",
       "      <td>-177.0</td>\n",
       "      <td>1.0</td>\n",
       "    </tr>\n",
       "    <tr>\n",
       "      <th>2</th>\n",
       "      <td>1383531</td>\n",
       "      <td>199383</td>\n",
       "      <td>Cash loans</td>\n",
       "      <td>23703.930</td>\n",
       "      <td>315000.0</td>\n",
       "      <td>340573.5</td>\n",
       "      <td>NaN</td>\n",
       "      <td>315000.0</td>\n",
       "      <td>SATURDAY</td>\n",
       "      <td>8</td>\n",
       "      <td>Approved</td>\n",
       "      <td>-684</td>\n",
       "      <td>18.0</td>\n",
       "      <td>low_normal</td>\n",
       "      <td>365243.0</td>\n",
       "      <td>-654.0</td>\n",
       "      <td>-137.0</td>\n",
       "      <td>1.0</td>\n",
       "    </tr>\n",
       "    <tr>\n",
       "      <th>3</th>\n",
       "      <td>2315218</td>\n",
       "      <td>175704</td>\n",
       "      <td>Cash loans</td>\n",
       "      <td>NaN</td>\n",
       "      <td>0.0</td>\n",
       "      <td>0.0</td>\n",
       "      <td>NaN</td>\n",
       "      <td>NaN</td>\n",
       "      <td>TUESDAY</td>\n",
       "      <td>11</td>\n",
       "      <td>Canceled</td>\n",
       "      <td>-14</td>\n",
       "      <td>NaN</td>\n",
       "      <td>NA1</td>\n",
       "      <td>NaN</td>\n",
       "      <td>NaN</td>\n",
       "      <td>NaN</td>\n",
       "      <td>NaN</td>\n",
       "    </tr>\n",
       "    <tr>\n",
       "      <th>4</th>\n",
       "      <td>1715995</td>\n",
       "      <td>447712</td>\n",
       "      <td>Cash loans</td>\n",
       "      <td>11368.620</td>\n",
       "      <td>270000.0</td>\n",
       "      <td>335754.0</td>\n",
       "      <td>NaN</td>\n",
       "      <td>270000.0</td>\n",
       "      <td>FRIDAY</td>\n",
       "      <td>7</td>\n",
       "      <td>Approved</td>\n",
       "      <td>-735</td>\n",
       "      <td>54.0</td>\n",
       "      <td>low_normal</td>\n",
       "      <td>365243.0</td>\n",
       "      <td>-705.0</td>\n",
       "      <td>-334.0</td>\n",
       "      <td>1.0</td>\n",
       "    </tr>\n",
       "    <tr>\n",
       "      <th>...</th>\n",
       "      <td>...</td>\n",
       "      <td>...</td>\n",
       "      <td>...</td>\n",
       "      <td>...</td>\n",
       "      <td>...</td>\n",
       "      <td>...</td>\n",
       "      <td>...</td>\n",
       "      <td>...</td>\n",
       "      <td>...</td>\n",
       "      <td>...</td>\n",
       "      <td>...</td>\n",
       "      <td>...</td>\n",
       "      <td>...</td>\n",
       "      <td>...</td>\n",
       "      <td>...</td>\n",
       "      <td>...</td>\n",
       "      <td>...</td>\n",
       "      <td>...</td>\n",
       "    </tr>\n",
       "    <tr>\n",
       "      <th>350707</th>\n",
       "      <td>1379569</td>\n",
       "      <td>309506</td>\n",
       "      <td>Cash loans</td>\n",
       "      <td>33389.100</td>\n",
       "      <td>1035000.0</td>\n",
       "      <td>1035000.0</td>\n",
       "      <td>NaN</td>\n",
       "      <td>1035000.0</td>\n",
       "      <td>THURSDAY</td>\n",
       "      <td>10</td>\n",
       "      <td>Refused</td>\n",
       "      <td>-156</td>\n",
       "      <td>60.0</td>\n",
       "      <td>low_normal</td>\n",
       "      <td>NaN</td>\n",
       "      <td>NaN</td>\n",
       "      <td>NaN</td>\n",
       "      <td>NaN</td>\n",
       "    </tr>\n",
       "    <tr>\n",
       "      <th>350708</th>\n",
       "      <td>1252861</td>\n",
       "      <td>363895</td>\n",
       "      <td>Cash loans</td>\n",
       "      <td>56754.000</td>\n",
       "      <td>1350000.0</td>\n",
       "      <td>1350000.0</td>\n",
       "      <td>NaN</td>\n",
       "      <td>1350000.0</td>\n",
       "      <td>THURSDAY</td>\n",
       "      <td>16</td>\n",
       "      <td>Refused</td>\n",
       "      <td>-847</td>\n",
       "      <td>48.0</td>\n",
       "      <td>middle</td>\n",
       "      <td>NaN</td>\n",
       "      <td>NaN</td>\n",
       "      <td>NaN</td>\n",
       "      <td>NaN</td>\n",
       "    </tr>\n",
       "    <tr>\n",
       "      <th>350709</th>\n",
       "      <td>1379406</td>\n",
       "      <td>302265</td>\n",
       "      <td>Cash loans</td>\n",
       "      <td>NaN</td>\n",
       "      <td>0.0</td>\n",
       "      <td>0.0</td>\n",
       "      <td>NaN</td>\n",
       "      <td>NaN</td>\n",
       "      <td>WEDNESDAY</td>\n",
       "      <td>13</td>\n",
       "      <td>Canceled</td>\n",
       "      <td>-502</td>\n",
       "      <td>NaN</td>\n",
       "      <td>NA1</td>\n",
       "      <td>NaN</td>\n",
       "      <td>NaN</td>\n",
       "      <td>NaN</td>\n",
       "      <td>NaN</td>\n",
       "    </tr>\n",
       "    <tr>\n",
       "      <th>350710</th>\n",
       "      <td>2698899</td>\n",
       "      <td>161204</td>\n",
       "      <td>Cash loans</td>\n",
       "      <td>NaN</td>\n",
       "      <td>0.0</td>\n",
       "      <td>0.0</td>\n",
       "      <td>NaN</td>\n",
       "      <td>NaN</td>\n",
       "      <td>SATURDAY</td>\n",
       "      <td>13</td>\n",
       "      <td>Canceled</td>\n",
       "      <td>-359</td>\n",
       "      <td>NaN</td>\n",
       "      <td>NA1</td>\n",
       "      <td>NaN</td>\n",
       "      <td>NaN</td>\n",
       "      <td>NaN</td>\n",
       "      <td>NaN</td>\n",
       "    </tr>\n",
       "    <tr>\n",
       "      <th>350711</th>\n",
       "      <td>1024416</td>\n",
       "      <td>331038</td>\n",
       "      <td>Cash loans</td>\n",
       "      <td>7576.920</td>\n",
       "      <td>99000.0</td>\n",
       "      <td>112068.0</td>\n",
       "      <td>0.0</td>\n",
       "      <td>99000.0</td>\n",
       "      <td>FRIDAY</td>\n",
       "      <td>14</td>\n",
       "      <td>Approved</td>\n",
       "      <td>-2439</td>\n",
       "      <td>24.0</td>\n",
       "      <td>high</td>\n",
       "      <td>365243.0</td>\n",
       "      <td>-2409.0</td>\n",
       "      <td>-1716.0</td>\n",
       "      <td>1.0</td>\n",
       "    </tr>\n",
       "  </tbody>\n",
       "</table>\n",
       "<p>350712 rows × 18 columns</p>\n",
       "</div>"
      ],
      "text/plain": [
       "        SK_ID_PREV   LN_ID   CONTRACT_TYPE    ANNUITY  APPLICATION  \\\n",
       "0          2030495  271877  Consumer loans   1730.430      17145.0   \n",
       "1          2819243  176158      Cash loans  47041.335     450000.0   \n",
       "2          1383531  199383      Cash loans  23703.930     315000.0   \n",
       "3          2315218  175704      Cash loans        NaN          0.0   \n",
       "4          1715995  447712      Cash loans  11368.620     270000.0   \n",
       "...            ...     ...             ...        ...          ...   \n",
       "350707     1379569  309506      Cash loans  33389.100    1035000.0   \n",
       "350708     1252861  363895      Cash loans  56754.000    1350000.0   \n",
       "350709     1379406  302265      Cash loans        NaN          0.0   \n",
       "350710     2698899  161204      Cash loans        NaN          0.0   \n",
       "350711     1024416  331038      Cash loans   7576.920      99000.0   \n",
       "\n",
       "        APPROVED_CREDIT  AMT_DOWN_PAYMENT      PRICE WEEKDAYS_APPLY  \\\n",
       "0               17145.0               0.0    17145.0       SATURDAY   \n",
       "1              470790.0               NaN   450000.0         MONDAY   \n",
       "2              340573.5               NaN   315000.0       SATURDAY   \n",
       "3                   0.0               NaN        NaN        TUESDAY   \n",
       "4              335754.0               NaN   270000.0         FRIDAY   \n",
       "...                 ...               ...        ...            ...   \n",
       "350707        1035000.0               NaN  1035000.0       THURSDAY   \n",
       "350708        1350000.0               NaN  1350000.0       THURSDAY   \n",
       "350709              0.0               NaN        NaN      WEDNESDAY   \n",
       "350710              0.0               NaN        NaN       SATURDAY   \n",
       "350711         112068.0               0.0    99000.0         FRIDAY   \n",
       "\n",
       "        HOUR_APPLY CONTRACT_STATUS  DAYS_DECISION  TERM_PAYMENT YIELD_GROUP  \\\n",
       "0               15        Approved            -73          12.0      middle   \n",
       "1                7        Approved           -512          12.0      middle   \n",
       "2                8        Approved           -684          18.0  low_normal   \n",
       "3               11        Canceled            -14           NaN         NA1   \n",
       "4                7        Approved           -735          54.0  low_normal   \n",
       "...            ...             ...            ...           ...         ...   \n",
       "350707          10         Refused           -156          60.0  low_normal   \n",
       "350708          16         Refused           -847          48.0      middle   \n",
       "350709          13        Canceled           -502           NaN         NA1   \n",
       "350710          13        Canceled           -359           NaN         NA1   \n",
       "350711          14        Approved          -2439          24.0        high   \n",
       "\n",
       "        FIRST_DRAW  FIRST_DUE  TERMINATION  NFLAG_INSURED_ON_APPROVAL  \n",
       "0         365243.0      -42.0        -37.0                        0.0  \n",
       "1         365243.0     -482.0       -177.0                        1.0  \n",
       "2         365243.0     -654.0       -137.0                        1.0  \n",
       "3              NaN        NaN          NaN                        NaN  \n",
       "4         365243.0     -705.0       -334.0                        1.0  \n",
       "...            ...        ...          ...                        ...  \n",
       "350707         NaN        NaN          NaN                        NaN  \n",
       "350708         NaN        NaN          NaN                        NaN  \n",
       "350709         NaN        NaN          NaN                        NaN  \n",
       "350710         NaN        NaN          NaN                        NaN  \n",
       "350711    365243.0    -2409.0      -1716.0                        1.0  \n",
       "\n",
       "[350712 rows x 18 columns]"
      ]
     },
     "execution_count": 4,
     "metadata": {},
     "output_type": "execute_result"
    }
   ],
   "source": [
    "df_prev"
   ]
  },
  {
   "cell_type": "markdown",
   "metadata": {},
   "source": [
    "Sementara dataset prev_app.csv adalah dataset mengenai informasi dari pinjaman-pinjaman sebelum nya, informasi terkait jenis kontrak, biaya cicilan perbulan, jumlah pinjaman, status pinjaman tersebut (approve atau tidak), apakah disertakan DP pada cicilan ini, hari dan jam pengajuan pinjaman, jenis bunga, lama nya cicilan, dll"
   ]
  },
  {
   "cell_type": "code",
   "execution_count": 5,
   "metadata": {},
   "outputs": [
    {
     "name": "stdout",
     "output_type": "stream",
     "text": [
      "<class 'pandas.core.frame.DataFrame'>\n",
      "RangeIndex: 2872306 entries, 0 to 2872305\n",
      "Data columns (total 7 columns):\n",
      " #   Column       Dtype  \n",
      "---  ------       -----  \n",
      " 0   SK_ID_PREV   int64  \n",
      " 1   LN_ID        int64  \n",
      " 2   INST_NUMBER  int64  \n",
      " 3   INST_DAYS    float64\n",
      " 4   PAY_DAYS     float64\n",
      " 5   AMT_INST     float64\n",
      " 6   AMT_PAY      float64\n",
      "dtypes: float64(4), int64(3)\n",
      "memory usage: 153.4 MB\n"
     ]
    }
   ],
   "source": [
    "# #Melihat info dari data yang kita punya seperti jumlah kolom, input, memori, tipe data dll\n",
    "df_installment.info()"
   ]
  },
  {
   "cell_type": "code",
   "execution_count": 6,
   "metadata": {},
   "outputs": [
    {
     "name": "stdout",
     "output_type": "stream",
     "text": [
      "<class 'pandas.core.frame.DataFrame'>\n",
      "RangeIndex: 350712 entries, 0 to 350711\n",
      "Data columns (total 18 columns):\n",
      " #   Column                     Non-Null Count   Dtype  \n",
      "---  ------                     --------------   -----  \n",
      " 0   SK_ID_PREV                 350712 non-null  int64  \n",
      " 1   LN_ID                      350712 non-null  int64  \n",
      " 2   CONTRACT_TYPE              350712 non-null  object \n",
      " 3   ANNUITY                    274103 non-null  float64\n",
      " 4   APPLICATION                350712 non-null  float64\n",
      " 5   APPROVED_CREDIT            350712 non-null  float64\n",
      " 6   AMT_DOWN_PAYMENT           164205 non-null  float64\n",
      " 7   PRICE                      271072 non-null  float64\n",
      " 8   WEEKDAYS_APPLY             350712 non-null  object \n",
      " 9   HOUR_APPLY                 350712 non-null  int64  \n",
      " 10  CONTRACT_STATUS            350712 non-null  object \n",
      " 11  DAYS_DECISION              350712 non-null  int64  \n",
      " 12  TERM_PAYMENT               274103 non-null  float64\n",
      " 13  YIELD_GROUP                350712 non-null  object \n",
      " 14  FIRST_DRAW                 211407 non-null  float64\n",
      " 15  FIRST_DUE                  211407 non-null  float64\n",
      " 16  TERMINATION                211407 non-null  float64\n",
      " 17  NFLAG_INSURED_ON_APPROVAL  211407 non-null  float64\n",
      "dtypes: float64(10), int64(4), object(4)\n",
      "memory usage: 48.2+ MB\n"
     ]
    }
   ],
   "source": [
    "#Melihat info dari data yang kita punya seperti jumlah kolom, input, memori, tipe data dll\n",
    "df_prev.info()"
   ]
  },
  {
   "cell_type": "code",
   "execution_count": 7,
   "metadata": {},
   "outputs": [
    {
     "data": {
      "text/plain": [
       "SK_ID_PREV       0\n",
       "LN_ID            0\n",
       "INST_NUMBER      0\n",
       "INST_DAYS        0\n",
       "PAY_DAYS       673\n",
       "AMT_INST         0\n",
       "AMT_PAY        673\n",
       "dtype: int64"
      ]
     },
     "execution_count": 7,
     "metadata": {},
     "output_type": "execute_result"
    }
   ],
   "source": [
    "# melihat jumlah null value pada kolom dataset installpemnt_payment.csv\n",
    "df_installment.isnull().sum()"
   ]
  },
  {
   "cell_type": "code",
   "execution_count": 8,
   "metadata": {},
   "outputs": [
    {
     "data": {
      "text/plain": [
       "SK_ID_PREV                        0\n",
       "LN_ID                             0\n",
       "CONTRACT_TYPE                     0\n",
       "ANNUITY                       76609\n",
       "APPLICATION                       0\n",
       "APPROVED_CREDIT                   0\n",
       "AMT_DOWN_PAYMENT             186507\n",
       "PRICE                         79640\n",
       "WEEKDAYS_APPLY                    0\n",
       "HOUR_APPLY                        0\n",
       "CONTRACT_STATUS                   0\n",
       "DAYS_DECISION                     0\n",
       "TERM_PAYMENT                  76609\n",
       "YIELD_GROUP                       0\n",
       "FIRST_DRAW                   139305\n",
       "FIRST_DUE                    139305\n",
       "TERMINATION                  139305\n",
       "NFLAG_INSURED_ON_APPROVAL    139305\n",
       "dtype: int64"
      ]
     },
     "execution_count": 8,
     "metadata": {},
     "output_type": "execute_result"
    }
   ],
   "source": [
    "# melihat jumlah null value pada kolom dataset prev_appp.csv\n",
    "df_prev.isnull().sum()"
   ]
  },
  {
   "cell_type": "markdown",
   "metadata": {},
   "source": [
    "dapat dilihat pada kolom AMT_DOWN_PAYMENT, FIRST_DRAW, FIRST_DUE, TERMINATION, NFLAG_INSURED_ON_APPROVAL jumlah null value jampir 50% dari jumlah row pada dataset. bahkan null values kolom AMT_DOWN_PAYMENT melebihi 50% dari jumlah row dataset."
   ]
  },
  {
   "cell_type": "markdown",
   "metadata": {},
   "source": [
    "# 2. DATA PRE-PROSESING"
   ]
  },
  {
   "cell_type": "markdown",
   "metadata": {},
   "source": [
    "Pada tahapa ini, saya akan menyiapkan data sebelum dilakukan pemodelan. Di sini, data akan saya bersihkan dari input-input yang salah (miss input), input yang kosong, penyesuaian tipe data, normalisasi data, menghilangkan outliers, exploratory data analysis, melakukan feature engineering, dan feature selcetion, scaling, serta menangani imbalance dataset."
   ]
  },
  {
   "cell_type": "markdown",
   "metadata": {},
   "source": [
    "## 2.1 MERGING DATASET"
   ]
  },
  {
   "cell_type": "markdown",
   "metadata": {},
   "source": [
    "Karena dataset train/test berhubungan dengan data installment dan prev_app maka saya akan lakukan transformasi dengan merge data berdasarkan kolom - kolom yg saling berhubungan\n"
   ]
  },
  {
   "cell_type": "code",
   "execution_count": 9,
   "metadata": {},
   "outputs": [],
   "source": [
    "# import train dan test dataset\n",
    "# drop unnamed kolom\n",
    "test = pd.read_csv('app_test.csv')\n",
    "test.drop(columns={'Unnamed: 0'},inplace=True)\n",
    "train = pd.read_csv('app_train.csv')\n",
    "train.drop(columns={'Unnamed: 0'},inplace=True)"
   ]
  },
  {
   "cell_type": "markdown",
   "metadata": {},
   "source": [
    "### 2.1.1 TRAIN DATASET"
   ]
  },
  {
   "cell_type": "markdown",
   "metadata": {},
   "source": [
    "Karena Train dan test dataset memiliki relational dengan data installment pada kolom LN_ID maka akan kita merge (left-join)"
   ]
  },
  {
   "cell_type": "code",
   "execution_count": 10,
   "metadata": {},
   "outputs": [
    {
     "data": {
      "text/html": [
       "<div>\n",
       "<style scoped>\n",
       "    .dataframe tbody tr th:only-of-type {\n",
       "        vertical-align: middle;\n",
       "    }\n",
       "\n",
       "    .dataframe tbody tr th {\n",
       "        vertical-align: top;\n",
       "    }\n",
       "\n",
       "    .dataframe thead th {\n",
       "        text-align: right;\n",
       "    }\n",
       "</style>\n",
       "<table border=\"1\" class=\"dataframe\">\n",
       "  <thead>\n",
       "    <tr style=\"text-align: right;\">\n",
       "      <th></th>\n",
       "      <th>LN_ID</th>\n",
       "      <th>TARGET</th>\n",
       "      <th>CONTRACT_TYPE</th>\n",
       "      <th>GENDER</th>\n",
       "      <th>NUM_CHILDREN</th>\n",
       "      <th>INCOME</th>\n",
       "      <th>APPROVED_CREDIT</th>\n",
       "      <th>ANNUITY</th>\n",
       "      <th>PRICE</th>\n",
       "      <th>INCOME_TYPE</th>\n",
       "      <th>...</th>\n",
       "      <th>ORGANIZATION_TYPE</th>\n",
       "      <th>EXT_SCORE_1</th>\n",
       "      <th>EXT_SCORE_2</th>\n",
       "      <th>EXT_SCORE_3</th>\n",
       "      <th>SK_ID_PREV</th>\n",
       "      <th>INST_NUMBER</th>\n",
       "      <th>INST_DAYS</th>\n",
       "      <th>PAY_DAYS</th>\n",
       "      <th>AMT_INST</th>\n",
       "      <th>AMT_PAY</th>\n",
       "    </tr>\n",
       "  </thead>\n",
       "  <tbody>\n",
       "    <tr>\n",
       "      <th>0</th>\n",
       "      <td>333538</td>\n",
       "      <td>0</td>\n",
       "      <td>Revolving loans</td>\n",
       "      <td>F</td>\n",
       "      <td>1</td>\n",
       "      <td>67500.0</td>\n",
       "      <td>202500.0</td>\n",
       "      <td>10125.0</td>\n",
       "      <td>202500.0</td>\n",
       "      <td>Working</td>\n",
       "      <td>...</td>\n",
       "      <td>Business Entity Type 3</td>\n",
       "      <td>0.572805</td>\n",
       "      <td>0.608276</td>\n",
       "      <td>NaN</td>\n",
       "      <td>2600664.0</td>\n",
       "      <td>1.0</td>\n",
       "      <td>-550.0</td>\n",
       "      <td>-567.0</td>\n",
       "      <td>5378.715</td>\n",
       "      <td>5378.715</td>\n",
       "    </tr>\n",
       "    <tr>\n",
       "      <th>1</th>\n",
       "      <td>333538</td>\n",
       "      <td>0</td>\n",
       "      <td>Revolving loans</td>\n",
       "      <td>F</td>\n",
       "      <td>1</td>\n",
       "      <td>67500.0</td>\n",
       "      <td>202500.0</td>\n",
       "      <td>10125.0</td>\n",
       "      <td>202500.0</td>\n",
       "      <td>Working</td>\n",
       "      <td>...</td>\n",
       "      <td>Business Entity Type 3</td>\n",
       "      <td>0.572805</td>\n",
       "      <td>0.608276</td>\n",
       "      <td>NaN</td>\n",
       "      <td>2600664.0</td>\n",
       "      <td>4.0</td>\n",
       "      <td>-460.0</td>\n",
       "      <td>-474.0</td>\n",
       "      <td>5378.580</td>\n",
       "      <td>5378.580</td>\n",
       "    </tr>\n",
       "    <tr>\n",
       "      <th>2</th>\n",
       "      <td>333538</td>\n",
       "      <td>0</td>\n",
       "      <td>Revolving loans</td>\n",
       "      <td>F</td>\n",
       "      <td>1</td>\n",
       "      <td>67500.0</td>\n",
       "      <td>202500.0</td>\n",
       "      <td>10125.0</td>\n",
       "      <td>202500.0</td>\n",
       "      <td>Working</td>\n",
       "      <td>...</td>\n",
       "      <td>Business Entity Type 3</td>\n",
       "      <td>0.572805</td>\n",
       "      <td>0.608276</td>\n",
       "      <td>NaN</td>\n",
       "      <td>2600664.0</td>\n",
       "      <td>3.0</td>\n",
       "      <td>-490.0</td>\n",
       "      <td>-505.0</td>\n",
       "      <td>5378.715</td>\n",
       "      <td>5378.715</td>\n",
       "    </tr>\n",
       "    <tr>\n",
       "      <th>3</th>\n",
       "      <td>333538</td>\n",
       "      <td>0</td>\n",
       "      <td>Revolving loans</td>\n",
       "      <td>F</td>\n",
       "      <td>1</td>\n",
       "      <td>67500.0</td>\n",
       "      <td>202500.0</td>\n",
       "      <td>10125.0</td>\n",
       "      <td>202500.0</td>\n",
       "      <td>Working</td>\n",
       "      <td>...</td>\n",
       "      <td>Business Entity Type 3</td>\n",
       "      <td>0.572805</td>\n",
       "      <td>0.608276</td>\n",
       "      <td>NaN</td>\n",
       "      <td>2600664.0</td>\n",
       "      <td>2.0</td>\n",
       "      <td>-520.0</td>\n",
       "      <td>-533.0</td>\n",
       "      <td>5378.715</td>\n",
       "      <td>5378.715</td>\n",
       "    </tr>\n",
       "    <tr>\n",
       "      <th>4</th>\n",
       "      <td>406644</td>\n",
       "      <td>0</td>\n",
       "      <td>Cash loans</td>\n",
       "      <td>F</td>\n",
       "      <td>1</td>\n",
       "      <td>202500.0</td>\n",
       "      <td>976711.5</td>\n",
       "      <td>49869.0</td>\n",
       "      <td>873000.0</td>\n",
       "      <td>Commercial associate</td>\n",
       "      <td>...</td>\n",
       "      <td>Other</td>\n",
       "      <td>0.655600</td>\n",
       "      <td>0.684298</td>\n",
       "      <td>NaN</td>\n",
       "      <td>1034039.0</td>\n",
       "      <td>3.0</td>\n",
       "      <td>-1608.0</td>\n",
       "      <td>-1603.0</td>\n",
       "      <td>16227.540</td>\n",
       "      <td>14617.620</td>\n",
       "    </tr>\n",
       "    <tr>\n",
       "      <th>...</th>\n",
       "      <td>...</td>\n",
       "      <td>...</td>\n",
       "      <td>...</td>\n",
       "      <td>...</td>\n",
       "      <td>...</td>\n",
       "      <td>...</td>\n",
       "      <td>...</td>\n",
       "      <td>...</td>\n",
       "      <td>...</td>\n",
       "      <td>...</td>\n",
       "      <td>...</td>\n",
       "      <td>...</td>\n",
       "      <td>...</td>\n",
       "      <td>...</td>\n",
       "      <td>...</td>\n",
       "      <td>...</td>\n",
       "      <td>...</td>\n",
       "      <td>...</td>\n",
       "      <td>...</td>\n",
       "      <td>...</td>\n",
       "      <td>...</td>\n",
       "    </tr>\n",
       "    <tr>\n",
       "      <th>2313772</th>\n",
       "      <td>293198</td>\n",
       "      <td>0</td>\n",
       "      <td>Cash loans</td>\n",
       "      <td>F</td>\n",
       "      <td>0</td>\n",
       "      <td>90000.0</td>\n",
       "      <td>203760.0</td>\n",
       "      <td>20281.5</td>\n",
       "      <td>180000.0</td>\n",
       "      <td>Pensioner</td>\n",
       "      <td>...</td>\n",
       "      <td>NA1</td>\n",
       "      <td>NaN</td>\n",
       "      <td>0.250811</td>\n",
       "      <td>0.644679</td>\n",
       "      <td>1176770.0</td>\n",
       "      <td>2.0</td>\n",
       "      <td>-338.0</td>\n",
       "      <td>-357.0</td>\n",
       "      <td>3948.525</td>\n",
       "      <td>3948.525</td>\n",
       "    </tr>\n",
       "    <tr>\n",
       "      <th>2313773</th>\n",
       "      <td>293198</td>\n",
       "      <td>0</td>\n",
       "      <td>Cash loans</td>\n",
       "      <td>F</td>\n",
       "      <td>0</td>\n",
       "      <td>90000.0</td>\n",
       "      <td>203760.0</td>\n",
       "      <td>20281.5</td>\n",
       "      <td>180000.0</td>\n",
       "      <td>Pensioner</td>\n",
       "      <td>...</td>\n",
       "      <td>NA1</td>\n",
       "      <td>NaN</td>\n",
       "      <td>0.250811</td>\n",
       "      <td>0.644679</td>\n",
       "      <td>1282329.0</td>\n",
       "      <td>11.0</td>\n",
       "      <td>-2254.0</td>\n",
       "      <td>-2330.0</td>\n",
       "      <td>2764.395</td>\n",
       "      <td>2764.395</td>\n",
       "    </tr>\n",
       "    <tr>\n",
       "      <th>2313774</th>\n",
       "      <td>293198</td>\n",
       "      <td>0</td>\n",
       "      <td>Cash loans</td>\n",
       "      <td>F</td>\n",
       "      <td>0</td>\n",
       "      <td>90000.0</td>\n",
       "      <td>203760.0</td>\n",
       "      <td>20281.5</td>\n",
       "      <td>180000.0</td>\n",
       "      <td>Pensioner</td>\n",
       "      <td>...</td>\n",
       "      <td>NA1</td>\n",
       "      <td>NaN</td>\n",
       "      <td>0.250811</td>\n",
       "      <td>0.644679</td>\n",
       "      <td>1418513.0</td>\n",
       "      <td>2.0</td>\n",
       "      <td>-1680.0</td>\n",
       "      <td>-1709.0</td>\n",
       "      <td>5739.255</td>\n",
       "      <td>5739.255</td>\n",
       "    </tr>\n",
       "    <tr>\n",
       "      <th>2313775</th>\n",
       "      <td>293198</td>\n",
       "      <td>0</td>\n",
       "      <td>Cash loans</td>\n",
       "      <td>F</td>\n",
       "      <td>0</td>\n",
       "      <td>90000.0</td>\n",
       "      <td>203760.0</td>\n",
       "      <td>20281.5</td>\n",
       "      <td>180000.0</td>\n",
       "      <td>Pensioner</td>\n",
       "      <td>...</td>\n",
       "      <td>NA1</td>\n",
       "      <td>NaN</td>\n",
       "      <td>0.250811</td>\n",
       "      <td>0.644679</td>\n",
       "      <td>1282329.0</td>\n",
       "      <td>1.0</td>\n",
       "      <td>-2554.0</td>\n",
       "      <td>-2574.0</td>\n",
       "      <td>2764.395</td>\n",
       "      <td>2764.395</td>\n",
       "    </tr>\n",
       "    <tr>\n",
       "      <th>2313776</th>\n",
       "      <td>293198</td>\n",
       "      <td>0</td>\n",
       "      <td>Cash loans</td>\n",
       "      <td>F</td>\n",
       "      <td>0</td>\n",
       "      <td>90000.0</td>\n",
       "      <td>203760.0</td>\n",
       "      <td>20281.5</td>\n",
       "      <td>180000.0</td>\n",
       "      <td>Pensioner</td>\n",
       "      <td>...</td>\n",
       "      <td>NA1</td>\n",
       "      <td>NaN</td>\n",
       "      <td>0.250811</td>\n",
       "      <td>0.644679</td>\n",
       "      <td>1282329.0</td>\n",
       "      <td>8.0</td>\n",
       "      <td>-2344.0</td>\n",
       "      <td>-2392.0</td>\n",
       "      <td>2764.395</td>\n",
       "      <td>2764.395</td>\n",
       "    </tr>\n",
       "  </tbody>\n",
       "</table>\n",
       "<p>2313777 rows × 29 columns</p>\n",
       "</div>"
      ],
      "text/plain": [
       "          LN_ID  TARGET    CONTRACT_TYPE GENDER  NUM_CHILDREN    INCOME  \\\n",
       "0        333538       0  Revolving loans      F             1   67500.0   \n",
       "1        333538       0  Revolving loans      F             1   67500.0   \n",
       "2        333538       0  Revolving loans      F             1   67500.0   \n",
       "3        333538       0  Revolving loans      F             1   67500.0   \n",
       "4        406644       0       Cash loans      F             1  202500.0   \n",
       "...         ...     ...              ...    ...           ...       ...   \n",
       "2313772  293198       0       Cash loans      F             0   90000.0   \n",
       "2313773  293198       0       Cash loans      F             0   90000.0   \n",
       "2313774  293198       0       Cash loans      F             0   90000.0   \n",
       "2313775  293198       0       Cash loans      F             0   90000.0   \n",
       "2313776  293198       0       Cash loans      F             0   90000.0   \n",
       "\n",
       "         APPROVED_CREDIT  ANNUITY     PRICE           INCOME_TYPE  ...  \\\n",
       "0               202500.0  10125.0  202500.0               Working  ...   \n",
       "1               202500.0  10125.0  202500.0               Working  ...   \n",
       "2               202500.0  10125.0  202500.0               Working  ...   \n",
       "3               202500.0  10125.0  202500.0               Working  ...   \n",
       "4               976711.5  49869.0  873000.0  Commercial associate  ...   \n",
       "...                  ...      ...       ...                   ...  ...   \n",
       "2313772         203760.0  20281.5  180000.0             Pensioner  ...   \n",
       "2313773         203760.0  20281.5  180000.0             Pensioner  ...   \n",
       "2313774         203760.0  20281.5  180000.0             Pensioner  ...   \n",
       "2313775         203760.0  20281.5  180000.0             Pensioner  ...   \n",
       "2313776         203760.0  20281.5  180000.0             Pensioner  ...   \n",
       "\n",
       "              ORGANIZATION_TYPE EXT_SCORE_1 EXT_SCORE_2  EXT_SCORE_3  \\\n",
       "0        Business Entity Type 3    0.572805    0.608276          NaN   \n",
       "1        Business Entity Type 3    0.572805    0.608276          NaN   \n",
       "2        Business Entity Type 3    0.572805    0.608276          NaN   \n",
       "3        Business Entity Type 3    0.572805    0.608276          NaN   \n",
       "4                         Other    0.655600    0.684298          NaN   \n",
       "...                         ...         ...         ...          ...   \n",
       "2313772                     NA1         NaN    0.250811     0.644679   \n",
       "2313773                     NA1         NaN    0.250811     0.644679   \n",
       "2313774                     NA1         NaN    0.250811     0.644679   \n",
       "2313775                     NA1         NaN    0.250811     0.644679   \n",
       "2313776                     NA1         NaN    0.250811     0.644679   \n",
       "\n",
       "         SK_ID_PREV  INST_NUMBER  INST_DAYS PAY_DAYS   AMT_INST    AMT_PAY  \n",
       "0         2600664.0          1.0     -550.0   -567.0   5378.715   5378.715  \n",
       "1         2600664.0          4.0     -460.0   -474.0   5378.580   5378.580  \n",
       "2         2600664.0          3.0     -490.0   -505.0   5378.715   5378.715  \n",
       "3         2600664.0          2.0     -520.0   -533.0   5378.715   5378.715  \n",
       "4         1034039.0          3.0    -1608.0  -1603.0  16227.540  14617.620  \n",
       "...             ...          ...        ...      ...        ...        ...  \n",
       "2313772   1176770.0          2.0     -338.0   -357.0   3948.525   3948.525  \n",
       "2313773   1282329.0         11.0    -2254.0  -2330.0   2764.395   2764.395  \n",
       "2313774   1418513.0          2.0    -1680.0  -1709.0   5739.255   5739.255  \n",
       "2313775   1282329.0          1.0    -2554.0  -2574.0   2764.395   2764.395  \n",
       "2313776   1282329.0          8.0    -2344.0  -2392.0   2764.395   2764.395  \n",
       "\n",
       "[2313777 rows x 29 columns]"
      ]
     },
     "execution_count": 10,
     "metadata": {},
     "output_type": "execute_result"
    }
   ],
   "source": [
    "# merge data\n",
    "train_merge = pd.merge(train, df_installment, how='left', on='LN_ID')\n",
    "train_merge\n"
   ]
  },
  {
   "cell_type": "code",
   "execution_count": 11,
   "metadata": {},
   "outputs": [
    {
     "data": {
      "text/plain": [
       "LN_ID                      0\n",
       "TARGET                     0\n",
       "CONTRACT_TYPE              0\n",
       "GENDER                     0\n",
       "NUM_CHILDREN               0\n",
       "INCOME                     0\n",
       "APPROVED_CREDIT            0\n",
       "ANNUITY                   37\n",
       "PRICE                   1623\n",
       "INCOME_TYPE                0\n",
       "EDUCATION                  0\n",
       "FAMILY_STATUS              0\n",
       "HOUSING_TYPE               0\n",
       "DAYS_AGE                   0\n",
       "DAYS_WORK                  0\n",
       "DAYS_REGISTRATION          0\n",
       "DAYS_ID_CHANGE             0\n",
       "WEEKDAYS_APPLY             0\n",
       "HOUR_APPLY                 0\n",
       "ORGANIZATION_TYPE          0\n",
       "EXT_SCORE_1          1315182\n",
       "EXT_SCORE_2             2722\n",
       "EXT_SCORE_3           409541\n",
       "SK_ID_PREV              3194\n",
       "INST_NUMBER             3194\n",
       "INST_DAYS               3194\n",
       "PAY_DAYS                3751\n",
       "AMT_INST                3194\n",
       "AMT_PAY                 3751\n",
       "dtype: int64"
      ]
     },
     "execution_count": 11,
     "metadata": {},
     "output_type": "execute_result"
    }
   ],
   "source": [
    "# cek null values\n",
    "train_merge.isnull().sum()"
   ]
  },
  {
   "cell_type": "markdown",
   "metadata": {},
   "source": [
    "Karena EXT_SCORE_1 dan EXT_SCORE_3 memiliki null values yang sangat banyak, maka akan kita drop kolom tersebut, lalu drop semua null values pada tiap row (karena nilai null value tiap row yg tidak banyak setelah drop 2 kolom di atas)"
   ]
  },
  {
   "cell_type": "code",
   "execution_count": 12,
   "metadata": {},
   "outputs": [
    {
     "data": {
      "text/plain": [
       "LN_ID                0\n",
       "TARGET               0\n",
       "CONTRACT_TYPE        0\n",
       "GENDER               0\n",
       "NUM_CHILDREN         0\n",
       "INCOME               0\n",
       "APPROVED_CREDIT      0\n",
       "ANNUITY              0\n",
       "PRICE                0\n",
       "INCOME_TYPE          0\n",
       "EDUCATION            0\n",
       "FAMILY_STATUS        0\n",
       "HOUSING_TYPE         0\n",
       "DAYS_AGE             0\n",
       "DAYS_WORK            0\n",
       "DAYS_REGISTRATION    0\n",
       "DAYS_ID_CHANGE       0\n",
       "WEEKDAYS_APPLY       0\n",
       "HOUR_APPLY           0\n",
       "ORGANIZATION_TYPE    0\n",
       "EXT_SCORE_2          0\n",
       "SK_ID_PREV           0\n",
       "INST_NUMBER          0\n",
       "INST_DAYS            0\n",
       "PAY_DAYS             0\n",
       "AMT_INST             0\n",
       "AMT_PAY              0\n",
       "dtype: int64"
      ]
     },
     "execution_count": 12,
     "metadata": {},
     "output_type": "execute_result"
    }
   ],
   "source": [
    "#drop column ext_score_3 dan ext_score_1\n",
    "train_merge.drop(columns={'EXT_SCORE_1','EXT_SCORE_3'},inplace=True)\n",
    "# drop nan value in rows\n",
    "train_merge.dropna(inplace=True)\n",
    "train_merge.isnull().sum()"
   ]
  },
  {
   "cell_type": "markdown",
   "metadata": {},
   "source": [
    "setelah tidak ada null value pada tiap kolom kita akan melihat tipe kolom dan melakukan transformasi yg sesuai"
   ]
  },
  {
   "cell_type": "code",
   "execution_count": 13,
   "metadata": {},
   "outputs": [
    {
     "name": "stdout",
     "output_type": "stream",
     "text": [
      "<class 'pandas.core.frame.DataFrame'>\n",
      "Int64Index: 2305665 entries, 0 to 2313776\n",
      "Data columns (total 27 columns):\n",
      " #   Column             Dtype  \n",
      "---  ------             -----  \n",
      " 0   LN_ID              int64  \n",
      " 1   TARGET             int64  \n",
      " 2   CONTRACT_TYPE      object \n",
      " 3   GENDER             object \n",
      " 4   NUM_CHILDREN       int64  \n",
      " 5   INCOME             float64\n",
      " 6   APPROVED_CREDIT    float64\n",
      " 7   ANNUITY            float64\n",
      " 8   PRICE              float64\n",
      " 9   INCOME_TYPE        object \n",
      " 10  EDUCATION          object \n",
      " 11  FAMILY_STATUS      object \n",
      " 12  HOUSING_TYPE       object \n",
      " 13  DAYS_AGE           int64  \n",
      " 14  DAYS_WORK          int64  \n",
      " 15  DAYS_REGISTRATION  float64\n",
      " 16  DAYS_ID_CHANGE     int64  \n",
      " 17  WEEKDAYS_APPLY     object \n",
      " 18  HOUR_APPLY         int64  \n",
      " 19  ORGANIZATION_TYPE  object \n",
      " 20  EXT_SCORE_2        float64\n",
      " 21  SK_ID_PREV         float64\n",
      " 22  INST_NUMBER        float64\n",
      " 23  INST_DAYS          float64\n",
      " 24  PAY_DAYS           float64\n",
      " 25  AMT_INST           float64\n",
      " 26  AMT_PAY            float64\n",
      "dtypes: float64(12), int64(7), object(8)\n",
      "memory usage: 492.5+ MB\n"
     ]
    }
   ],
   "source": [
    "train_merge.info()"
   ]
  },
  {
   "cell_type": "markdown",
   "metadata": {},
   "source": [
    "setelah dianalisa tipe kolom dan value dari tiap kolom maka perlu dilakukan beberapa transformasi seperti :"
   ]
  },
  {
   "cell_type": "markdown",
   "metadata": {},
   "source": [
    "- Mengubah tipe kolom DAYS_REGISTRATION, INST_DAYS, PAY_DAYS, SK_ID_PREV, INST_NUMBER menjadi int64\n",
    "- Mengubah value pada kolom WEEKDAYS_APPLY menjadi angka, karena di indo seminggu dimulai pada hari senin maka saya akan set senen menjadi 1, dst\n",
    "- Melakukan encoding pada kolom kategori seperti CONTRACT_TYPE, INCOME_TYPE, EDUCATION, FAMILY_STATUS, HOUSING_TYPE, DAN ORGANIZATION TYPE"
   ]
  },
  {
   "cell_type": "code",
   "execution_count": 14,
   "metadata": {},
   "outputs": [
    {
     "data": {
      "text/html": [
       "<div>\n",
       "<style scoped>\n",
       "    .dataframe tbody tr th:only-of-type {\n",
       "        vertical-align: middle;\n",
       "    }\n",
       "\n",
       "    .dataframe tbody tr th {\n",
       "        vertical-align: top;\n",
       "    }\n",
       "\n",
       "    .dataframe thead th {\n",
       "        text-align: right;\n",
       "    }\n",
       "</style>\n",
       "<table border=\"1\" class=\"dataframe\">\n",
       "  <thead>\n",
       "    <tr style=\"text-align: right;\">\n",
       "      <th></th>\n",
       "      <th>LN_ID</th>\n",
       "      <th>TARGET</th>\n",
       "      <th>CONTRACT_TYPE</th>\n",
       "      <th>NUM_CHILDREN</th>\n",
       "      <th>INCOME</th>\n",
       "      <th>APPROVED_CREDIT</th>\n",
       "      <th>ANNUITY</th>\n",
       "      <th>PRICE</th>\n",
       "      <th>INCOME_TYPE</th>\n",
       "      <th>EDUCATION</th>\n",
       "      <th>...</th>\n",
       "      <th>ORGANIZATION_TYPE</th>\n",
       "      <th>EXT_SCORE_2</th>\n",
       "      <th>SK_ID_PREV</th>\n",
       "      <th>INST_NUMBER</th>\n",
       "      <th>INST_DAYS</th>\n",
       "      <th>PAY_DAYS</th>\n",
       "      <th>AMT_INST</th>\n",
       "      <th>AMT_PAY</th>\n",
       "      <th>GENDER_F</th>\n",
       "      <th>GENDER_M</th>\n",
       "    </tr>\n",
       "  </thead>\n",
       "  <tbody>\n",
       "    <tr>\n",
       "      <th>0</th>\n",
       "      <td>333538</td>\n",
       "      <td>0</td>\n",
       "      <td>1</td>\n",
       "      <td>1</td>\n",
       "      <td>67500.0</td>\n",
       "      <td>202500.0</td>\n",
       "      <td>10125.0</td>\n",
       "      <td>202500.0</td>\n",
       "      <td>5</td>\n",
       "      <td>4</td>\n",
       "      <td>...</td>\n",
       "      <td>5</td>\n",
       "      <td>0.608276</td>\n",
       "      <td>2600664</td>\n",
       "      <td>1</td>\n",
       "      <td>-550</td>\n",
       "      <td>-567</td>\n",
       "      <td>5378.715</td>\n",
       "      <td>5378.715</td>\n",
       "      <td>1</td>\n",
       "      <td>0</td>\n",
       "    </tr>\n",
       "    <tr>\n",
       "      <th>1</th>\n",
       "      <td>333538</td>\n",
       "      <td>0</td>\n",
       "      <td>1</td>\n",
       "      <td>1</td>\n",
       "      <td>67500.0</td>\n",
       "      <td>202500.0</td>\n",
       "      <td>10125.0</td>\n",
       "      <td>202500.0</td>\n",
       "      <td>5</td>\n",
       "      <td>4</td>\n",
       "      <td>...</td>\n",
       "      <td>5</td>\n",
       "      <td>0.608276</td>\n",
       "      <td>2600664</td>\n",
       "      <td>4</td>\n",
       "      <td>-460</td>\n",
       "      <td>-474</td>\n",
       "      <td>5378.580</td>\n",
       "      <td>5378.580</td>\n",
       "      <td>1</td>\n",
       "      <td>0</td>\n",
       "    </tr>\n",
       "    <tr>\n",
       "      <th>2</th>\n",
       "      <td>333538</td>\n",
       "      <td>0</td>\n",
       "      <td>1</td>\n",
       "      <td>1</td>\n",
       "      <td>67500.0</td>\n",
       "      <td>202500.0</td>\n",
       "      <td>10125.0</td>\n",
       "      <td>202500.0</td>\n",
       "      <td>5</td>\n",
       "      <td>4</td>\n",
       "      <td>...</td>\n",
       "      <td>5</td>\n",
       "      <td>0.608276</td>\n",
       "      <td>2600664</td>\n",
       "      <td>3</td>\n",
       "      <td>-490</td>\n",
       "      <td>-505</td>\n",
       "      <td>5378.715</td>\n",
       "      <td>5378.715</td>\n",
       "      <td>1</td>\n",
       "      <td>0</td>\n",
       "    </tr>\n",
       "    <tr>\n",
       "      <th>3</th>\n",
       "      <td>333538</td>\n",
       "      <td>0</td>\n",
       "      <td>1</td>\n",
       "      <td>1</td>\n",
       "      <td>67500.0</td>\n",
       "      <td>202500.0</td>\n",
       "      <td>10125.0</td>\n",
       "      <td>202500.0</td>\n",
       "      <td>5</td>\n",
       "      <td>4</td>\n",
       "      <td>...</td>\n",
       "      <td>5</td>\n",
       "      <td>0.608276</td>\n",
       "      <td>2600664</td>\n",
       "      <td>2</td>\n",
       "      <td>-520</td>\n",
       "      <td>-533</td>\n",
       "      <td>5378.715</td>\n",
       "      <td>5378.715</td>\n",
       "      <td>1</td>\n",
       "      <td>0</td>\n",
       "    </tr>\n",
       "    <tr>\n",
       "      <th>4</th>\n",
       "      <td>406644</td>\n",
       "      <td>0</td>\n",
       "      <td>0</td>\n",
       "      <td>1</td>\n",
       "      <td>202500.0</td>\n",
       "      <td>976711.5</td>\n",
       "      <td>49869.0</td>\n",
       "      <td>873000.0</td>\n",
       "      <td>0</td>\n",
       "      <td>4</td>\n",
       "      <td>...</td>\n",
       "      <td>34</td>\n",
       "      <td>0.684298</td>\n",
       "      <td>1034039</td>\n",
       "      <td>3</td>\n",
       "      <td>-1608</td>\n",
       "      <td>-1603</td>\n",
       "      <td>16227.540</td>\n",
       "      <td>14617.620</td>\n",
       "      <td>1</td>\n",
       "      <td>0</td>\n",
       "    </tr>\n",
       "  </tbody>\n",
       "</table>\n",
       "<p>5 rows × 28 columns</p>\n",
       "</div>"
      ],
      "text/plain": [
       "    LN_ID  TARGET  CONTRACT_TYPE  NUM_CHILDREN    INCOME  APPROVED_CREDIT  \\\n",
       "0  333538       0              1             1   67500.0         202500.0   \n",
       "1  333538       0              1             1   67500.0         202500.0   \n",
       "2  333538       0              1             1   67500.0         202500.0   \n",
       "3  333538       0              1             1   67500.0         202500.0   \n",
       "4  406644       0              0             1  202500.0         976711.5   \n",
       "\n",
       "   ANNUITY     PRICE  INCOME_TYPE  EDUCATION  ...  ORGANIZATION_TYPE  \\\n",
       "0  10125.0  202500.0            5          4  ...                  5   \n",
       "1  10125.0  202500.0            5          4  ...                  5   \n",
       "2  10125.0  202500.0            5          4  ...                  5   \n",
       "3  10125.0  202500.0            5          4  ...                  5   \n",
       "4  49869.0  873000.0            0          4  ...                 34   \n",
       "\n",
       "   EXT_SCORE_2  SK_ID_PREV  INST_NUMBER  INST_DAYS  PAY_DAYS   AMT_INST  \\\n",
       "0     0.608276     2600664            1       -550      -567   5378.715   \n",
       "1     0.608276     2600664            4       -460      -474   5378.580   \n",
       "2     0.608276     2600664            3       -490      -505   5378.715   \n",
       "3     0.608276     2600664            2       -520      -533   5378.715   \n",
       "4     0.684298     1034039            3      -1608     -1603  16227.540   \n",
       "\n",
       "     AMT_PAY  GENDER_F  GENDER_M  \n",
       "0   5378.715         1         0  \n",
       "1   5378.580         1         0  \n",
       "2   5378.715         1         0  \n",
       "3   5378.715         1         0  \n",
       "4  14617.620         1         0  \n",
       "\n",
       "[5 rows x 28 columns]"
      ]
     },
     "execution_count": 14,
     "metadata": {},
     "output_type": "execute_result"
    }
   ],
   "source": [
    "train_merge[['DAYS_REGISTRATION','INST_DAYS','PAY_DAYS','SK_ID_PREV','INST_NUMBER']] = train_merge[['DAYS_REGISTRATION','INST_DAYS','PAY_DAYS','SK_ID_PREV','INST_NUMBER']].astype('int64')\n",
    "# mengubah value dari kolom weekdays_apply menjadi nomor, \n",
    "# karena di indonesia hari pertama dalam seminggu adakah senin saya akan set monday menjadi 1, dst\n",
    "train_merge['WEEKDAYS_APPLY'].replace({'MONDAY':1,'TUESDAY':2,'WEDNESDAY':3, 'THURSDAY':4,'FRIDAY':5,'SATURDAY':6, 'SUNDAY':7},inplace=True)\n",
    "# melakukan encoding pada kategori value menjadi number sehingga memudahkan model untuk memprediksi target\n",
    "LE = LabelEncoder()\n",
    "train_merge = pd.get_dummies(train_merge, columns=['GENDER'])\n",
    "train_merge['CONTRACT_TYPE'] = LE.fit_transform(train_merge['CONTRACT_TYPE'])\n",
    "train_merge['INCOME_TYPE'] = LE.fit_transform(train_merge['INCOME_TYPE'])\n",
    "train_merge['EDUCATION'] = LE.fit_transform(train_merge['EDUCATION'])\n",
    "train_merge['FAMILY_STATUS'] = LE.fit_transform(train_merge['FAMILY_STATUS'])\n",
    "train_merge['HOUSING_TYPE'] = LE.fit_transform(train_merge['HOUSING_TYPE'])\n",
    "train_merge['ORGANIZATION_TYPE'] = LE.fit_transform(train_merge['ORGANIZATION_TYPE'])\n",
    "train_merge.head()\n"
   ]
  },
  {
   "cell_type": "code",
   "execution_count": 15,
   "metadata": {},
   "outputs": [
    {
     "name": "stdout",
     "output_type": "stream",
     "text": [
      "<class 'pandas.core.frame.DataFrame'>\n",
      "Int64Index: 2305665 entries, 0 to 2313776\n",
      "Data columns (total 28 columns):\n",
      " #   Column             Dtype  \n",
      "---  ------             -----  \n",
      " 0   LN_ID              int64  \n",
      " 1   TARGET             int64  \n",
      " 2   CONTRACT_TYPE      int64  \n",
      " 3   NUM_CHILDREN       int64  \n",
      " 4   INCOME             float64\n",
      " 5   APPROVED_CREDIT    float64\n",
      " 6   ANNUITY            float64\n",
      " 7   PRICE              float64\n",
      " 8   INCOME_TYPE        int64  \n",
      " 9   EDUCATION          int64  \n",
      " 10  FAMILY_STATUS      int64  \n",
      " 11  HOUSING_TYPE       int64  \n",
      " 12  DAYS_AGE           int64  \n",
      " 13  DAYS_WORK          int64  \n",
      " 14  DAYS_REGISTRATION  int64  \n",
      " 15  DAYS_ID_CHANGE     int64  \n",
      " 16  WEEKDAYS_APPLY     int64  \n",
      " 17  HOUR_APPLY         int64  \n",
      " 18  ORGANIZATION_TYPE  int64  \n",
      " 19  EXT_SCORE_2        float64\n",
      " 20  SK_ID_PREV         int64  \n",
      " 21  INST_NUMBER        int64  \n",
      " 22  INST_DAYS          int64  \n",
      " 23  PAY_DAYS           int64  \n",
      " 24  AMT_INST           float64\n",
      " 25  AMT_PAY            float64\n",
      " 26  GENDER_F           uint8  \n",
      " 27  GENDER_M           uint8  \n",
      "dtypes: float64(7), int64(19), uint8(2)\n",
      "memory usage: 479.4 MB\n"
     ]
    }
   ],
   "source": [
    "# cek lagi info dari dataset nya\n",
    "train_merge.info()"
   ]
  },
  {
   "cell_type": "markdown",
   "metadata": {},
   "source": [
    "### 2.1.2 TEST DATASET"
   ]
  },
  {
   "cell_type": "markdown",
   "metadata": {},
   "source": [
    "Setelah sesuai semua data pada train dataset, maka selanjutnya kita melakukan transformasi yang sama terhadap test dataset, karena data ini adalah data sama dengan train dataset namun dibagi saja.\n"
   ]
  },
  {
   "cell_type": "code",
   "execution_count": 16,
   "metadata": {},
   "outputs": [
    {
     "data": {
      "text/plain": [
       "LN_ID                     0\n",
       "TARGET                    0\n",
       "CONTRACT_TYPE             0\n",
       "GENDER                    0\n",
       "NUM_CHILDREN              0\n",
       "INCOME                    0\n",
       "APPROVED_CREDIT           0\n",
       "ANNUITY                   0\n",
       "PRICE                   457\n",
       "INCOME_TYPE               0\n",
       "EDUCATION                 0\n",
       "FAMILY_STATUS             0\n",
       "HOUSING_TYPE              0\n",
       "DAYS_AGE                  0\n",
       "DAYS_WORK                 0\n",
       "DAYS_REGISTRATION         0\n",
       "DAYS_ID_CHANGE            0\n",
       "WEEKDAYS_APPLY            0\n",
       "HOUR_APPLY                0\n",
       "ORGANIZATION_TYPE         0\n",
       "EXT_SCORE_1          316247\n",
       "EXT_SCORE_2             428\n",
       "EXT_SCORE_3           99279\n",
       "SK_ID_PREV              769\n",
       "INST_NUMBER             769\n",
       "INST_DAYS               769\n",
       "PAY_DAYS                885\n",
       "AMT_INST                769\n",
       "AMT_PAY                 885\n",
       "dtype: int64"
      ]
     },
     "execution_count": 16,
     "metadata": {},
     "output_type": "execute_result"
    }
   ],
   "source": [
    "# merge data\n",
    "test_merge = pd.merge(test, df_installment, how='left', on='LN_ID')\n",
    "test_merge.isnull().sum()"
   ]
  },
  {
   "cell_type": "markdown",
   "metadata": {},
   "source": [
    "Karena EXT_SCORE_1 dan EXT_SCORE_3 memiliki null values yang sangat banyak, maka akan kita drop kolom tersebut, lalu drop semua null values pada tiap row (karena nilai null value tiap row yg tidak banyak setelah drop 2 kolom di atas)"
   ]
  },
  {
   "cell_type": "code",
   "execution_count": 17,
   "metadata": {},
   "outputs": [
    {
     "data": {
      "text/plain": [
       "LN_ID                0\n",
       "TARGET               0\n",
       "CONTRACT_TYPE        0\n",
       "GENDER               0\n",
       "NUM_CHILDREN         0\n",
       "INCOME               0\n",
       "APPROVED_CREDIT      0\n",
       "ANNUITY              0\n",
       "PRICE                0\n",
       "INCOME_TYPE          0\n",
       "EDUCATION            0\n",
       "FAMILY_STATUS        0\n",
       "HOUSING_TYPE         0\n",
       "DAYS_AGE             0\n",
       "DAYS_WORK            0\n",
       "DAYS_REGISTRATION    0\n",
       "DAYS_ID_CHANGE       0\n",
       "WEEKDAYS_APPLY       0\n",
       "HOUR_APPLY           0\n",
       "ORGANIZATION_TYPE    0\n",
       "EXT_SCORE_2          0\n",
       "SK_ID_PREV           0\n",
       "INST_NUMBER          0\n",
       "INST_DAYS            0\n",
       "PAY_DAYS             0\n",
       "AMT_INST             0\n",
       "AMT_PAY              0\n",
       "dtype: int64"
      ]
     },
     "execution_count": 17,
     "metadata": {},
     "output_type": "execute_result"
    }
   ],
   "source": [
    "#drop column ext_score_3 dan ext_score_1\n",
    "test_merge.drop(columns={'EXT_SCORE_1','EXT_SCORE_3'},inplace=True)\n",
    "# drop nan value in rows\n",
    "test_merge.dropna(inplace=True)\n",
    "test_merge.isnull().sum()"
   ]
  },
  {
   "cell_type": "markdown",
   "metadata": {},
   "source": [
    "setelah tidak ada null value pada tiap kolom kita akan melihat tipe kolom dan melakukan transformasi yg sesuai"
   ]
  },
  {
   "cell_type": "code",
   "execution_count": 18,
   "metadata": {},
   "outputs": [
    {
     "name": "stdout",
     "output_type": "stream",
     "text": [
      "<class 'pandas.core.frame.DataFrame'>\n",
      "Int64Index: 560727 entries, 0 to 562491\n",
      "Data columns (total 27 columns):\n",
      " #   Column             Non-Null Count   Dtype  \n",
      "---  ------             --------------   -----  \n",
      " 0   LN_ID              560727 non-null  int64  \n",
      " 1   TARGET             560727 non-null  int64  \n",
      " 2   CONTRACT_TYPE      560727 non-null  object \n",
      " 3   GENDER             560727 non-null  object \n",
      " 4   NUM_CHILDREN       560727 non-null  int64  \n",
      " 5   INCOME             560727 non-null  float64\n",
      " 6   APPROVED_CREDIT    560727 non-null  float64\n",
      " 7   ANNUITY            560727 non-null  float64\n",
      " 8   PRICE              560727 non-null  float64\n",
      " 9   INCOME_TYPE        560727 non-null  object \n",
      " 10  EDUCATION          560727 non-null  object \n",
      " 11  FAMILY_STATUS      560727 non-null  object \n",
      " 12  HOUSING_TYPE       560727 non-null  object \n",
      " 13  DAYS_AGE           560727 non-null  int64  \n",
      " 14  DAYS_WORK          560727 non-null  int64  \n",
      " 15  DAYS_REGISTRATION  560727 non-null  float64\n",
      " 16  DAYS_ID_CHANGE     560727 non-null  int64  \n",
      " 17  WEEKDAYS_APPLY     560727 non-null  object \n",
      " 18  HOUR_APPLY         560727 non-null  int64  \n",
      " 19  ORGANIZATION_TYPE  560727 non-null  object \n",
      " 20  EXT_SCORE_2        560727 non-null  float64\n",
      " 21  SK_ID_PREV         560727 non-null  float64\n",
      " 22  INST_NUMBER        560727 non-null  float64\n",
      " 23  INST_DAYS          560727 non-null  float64\n",
      " 24  PAY_DAYS           560727 non-null  float64\n",
      " 25  AMT_INST           560727 non-null  float64\n",
      " 26  AMT_PAY            560727 non-null  float64\n",
      "dtypes: float64(12), int64(7), object(8)\n",
      "memory usage: 119.8+ MB\n"
     ]
    }
   ],
   "source": [
    "# check info\n",
    "test_merge.info()"
   ]
  },
  {
   "cell_type": "markdown",
   "metadata": {},
   "source": [
    "setelah dianalisa tipe kolom dan value dari tiap kolom maka perlu dilakukan beberapa transformasi seperti :\n",
    "\n",
    "- Mengubah tipe kolom DAYS_REGISTRATION, INST_DAYS, PAY_DAYS, SK_ID_PREV, INST_NUMBER menjadi int64\n",
    "- Mengubah value pada kolom WEEKDAYS_APPLY menjadi angka, karena di indo seminggu dimulai pada hari senin maka saya akan set senen menjadi 1, dst\n",
    "- Melakukan encoding pada kolom kategori seperti CONTRACT_TYPE, INCOME_TYPE, EDUCATION, FAMILY_STATUS, HOUSING_TYPE, DAN ORGANIZATION TYPE"
   ]
  },
  {
   "cell_type": "code",
   "execution_count": 19,
   "metadata": {},
   "outputs": [
    {
     "data": {
      "text/html": [
       "<div>\n",
       "<style scoped>\n",
       "    .dataframe tbody tr th:only-of-type {\n",
       "        vertical-align: middle;\n",
       "    }\n",
       "\n",
       "    .dataframe tbody tr th {\n",
       "        vertical-align: top;\n",
       "    }\n",
       "\n",
       "    .dataframe thead th {\n",
       "        text-align: right;\n",
       "    }\n",
       "</style>\n",
       "<table border=\"1\" class=\"dataframe\">\n",
       "  <thead>\n",
       "    <tr style=\"text-align: right;\">\n",
       "      <th></th>\n",
       "      <th>LN_ID</th>\n",
       "      <th>TARGET</th>\n",
       "      <th>CONTRACT_TYPE</th>\n",
       "      <th>NUM_CHILDREN</th>\n",
       "      <th>INCOME</th>\n",
       "      <th>APPROVED_CREDIT</th>\n",
       "      <th>ANNUITY</th>\n",
       "      <th>PRICE</th>\n",
       "      <th>INCOME_TYPE</th>\n",
       "      <th>EDUCATION</th>\n",
       "      <th>...</th>\n",
       "      <th>ORGANIZATION_TYPE</th>\n",
       "      <th>EXT_SCORE_2</th>\n",
       "      <th>SK_ID_PREV</th>\n",
       "      <th>INST_NUMBER</th>\n",
       "      <th>INST_DAYS</th>\n",
       "      <th>PAY_DAYS</th>\n",
       "      <th>AMT_INST</th>\n",
       "      <th>AMT_PAY</th>\n",
       "      <th>GENDER_F</th>\n",
       "      <th>GENDER_M</th>\n",
       "    </tr>\n",
       "  </thead>\n",
       "  <tbody>\n",
       "    <tr>\n",
       "      <th>0</th>\n",
       "      <td>219092</td>\n",
       "      <td>0</td>\n",
       "      <td>0</td>\n",
       "      <td>3</td>\n",
       "      <td>135000.0</td>\n",
       "      <td>871029.0</td>\n",
       "      <td>44604.0</td>\n",
       "      <td>765000.0</td>\n",
       "      <td>3</td>\n",
       "      <td>4</td>\n",
       "      <td>...</td>\n",
       "      <td>5</td>\n",
       "      <td>0.145475</td>\n",
       "      <td>2487385</td>\n",
       "      <td>7</td>\n",
       "      <td>-1530</td>\n",
       "      <td>-1534</td>\n",
       "      <td>8829.270</td>\n",
       "      <td>8829.270</td>\n",
       "      <td>0</td>\n",
       "      <td>1</td>\n",
       "    </tr>\n",
       "    <tr>\n",
       "      <th>1</th>\n",
       "      <td>219092</td>\n",
       "      <td>0</td>\n",
       "      <td>0</td>\n",
       "      <td>3</td>\n",
       "      <td>135000.0</td>\n",
       "      <td>871029.0</td>\n",
       "      <td>44604.0</td>\n",
       "      <td>765000.0</td>\n",
       "      <td>3</td>\n",
       "      <td>4</td>\n",
       "      <td>...</td>\n",
       "      <td>5</td>\n",
       "      <td>0.145475</td>\n",
       "      <td>1793513</td>\n",
       "      <td>8</td>\n",
       "      <td>-1287</td>\n",
       "      <td>-1332</td>\n",
       "      <td>4327.875</td>\n",
       "      <td>265.050</td>\n",
       "      <td>0</td>\n",
       "      <td>1</td>\n",
       "    </tr>\n",
       "    <tr>\n",
       "      <th>2</th>\n",
       "      <td>219092</td>\n",
       "      <td>0</td>\n",
       "      <td>0</td>\n",
       "      <td>3</td>\n",
       "      <td>135000.0</td>\n",
       "      <td>871029.0</td>\n",
       "      <td>44604.0</td>\n",
       "      <td>765000.0</td>\n",
       "      <td>3</td>\n",
       "      <td>4</td>\n",
       "      <td>...</td>\n",
       "      <td>5</td>\n",
       "      <td>0.145475</td>\n",
       "      <td>2487385</td>\n",
       "      <td>4</td>\n",
       "      <td>-1620</td>\n",
       "      <td>-1629</td>\n",
       "      <td>8829.270</td>\n",
       "      <td>8829.270</td>\n",
       "      <td>0</td>\n",
       "      <td>1</td>\n",
       "    </tr>\n",
       "    <tr>\n",
       "      <th>3</th>\n",
       "      <td>219092</td>\n",
       "      <td>0</td>\n",
       "      <td>0</td>\n",
       "      <td>3</td>\n",
       "      <td>135000.0</td>\n",
       "      <td>871029.0</td>\n",
       "      <td>44604.0</td>\n",
       "      <td>765000.0</td>\n",
       "      <td>3</td>\n",
       "      <td>4</td>\n",
       "      <td>...</td>\n",
       "      <td>5</td>\n",
       "      <td>0.145475</td>\n",
       "      <td>2487385</td>\n",
       "      <td>9</td>\n",
       "      <td>-1470</td>\n",
       "      <td>-1503</td>\n",
       "      <td>8829.270</td>\n",
       "      <td>8829.270</td>\n",
       "      <td>0</td>\n",
       "      <td>1</td>\n",
       "    </tr>\n",
       "    <tr>\n",
       "      <th>4</th>\n",
       "      <td>219092</td>\n",
       "      <td>0</td>\n",
       "      <td>0</td>\n",
       "      <td>3</td>\n",
       "      <td>135000.0</td>\n",
       "      <td>871029.0</td>\n",
       "      <td>44604.0</td>\n",
       "      <td>765000.0</td>\n",
       "      <td>3</td>\n",
       "      <td>4</td>\n",
       "      <td>...</td>\n",
       "      <td>5</td>\n",
       "      <td>0.145475</td>\n",
       "      <td>1793513</td>\n",
       "      <td>7</td>\n",
       "      <td>-1317</td>\n",
       "      <td>-1332</td>\n",
       "      <td>4327.875</td>\n",
       "      <td>4327.875</td>\n",
       "      <td>0</td>\n",
       "      <td>1</td>\n",
       "    </tr>\n",
       "  </tbody>\n",
       "</table>\n",
       "<p>5 rows × 28 columns</p>\n",
       "</div>"
      ],
      "text/plain": [
       "    LN_ID  TARGET  CONTRACT_TYPE  NUM_CHILDREN    INCOME  APPROVED_CREDIT  \\\n",
       "0  219092       0              0             3  135000.0         871029.0   \n",
       "1  219092       0              0             3  135000.0         871029.0   \n",
       "2  219092       0              0             3  135000.0         871029.0   \n",
       "3  219092       0              0             3  135000.0         871029.0   \n",
       "4  219092       0              0             3  135000.0         871029.0   \n",
       "\n",
       "   ANNUITY     PRICE  INCOME_TYPE  EDUCATION  ...  ORGANIZATION_TYPE  \\\n",
       "0  44604.0  765000.0            3          4  ...                  5   \n",
       "1  44604.0  765000.0            3          4  ...                  5   \n",
       "2  44604.0  765000.0            3          4  ...                  5   \n",
       "3  44604.0  765000.0            3          4  ...                  5   \n",
       "4  44604.0  765000.0            3          4  ...                  5   \n",
       "\n",
       "   EXT_SCORE_2  SK_ID_PREV  INST_NUMBER  INST_DAYS  PAY_DAYS  AMT_INST  \\\n",
       "0     0.145475     2487385            7      -1530     -1534  8829.270   \n",
       "1     0.145475     1793513            8      -1287     -1332  4327.875   \n",
       "2     0.145475     2487385            4      -1620     -1629  8829.270   \n",
       "3     0.145475     2487385            9      -1470     -1503  8829.270   \n",
       "4     0.145475     1793513            7      -1317     -1332  4327.875   \n",
       "\n",
       "    AMT_PAY  GENDER_F  GENDER_M  \n",
       "0  8829.270         0         1  \n",
       "1   265.050         0         1  \n",
       "2  8829.270         0         1  \n",
       "3  8829.270         0         1  \n",
       "4  4327.875         0         1  \n",
       "\n",
       "[5 rows x 28 columns]"
      ]
     },
     "execution_count": 19,
     "metadata": {},
     "output_type": "execute_result"
    }
   ],
   "source": [
    "test_merge[['DAYS_REGISTRATION','INST_DAYS','PAY_DAYS','SK_ID_PREV','INST_NUMBER']] = test_merge[['DAYS_REGISTRATION','INST_DAYS','PAY_DAYS','SK_ID_PREV','INST_NUMBER']].astype('int64')\n",
    "# mengubah value dari kolom weekdays_apply menjadi nomor, \n",
    "# karena di indonesia hari pertama dalam seminggu adakah senin saya akan set monday menjadi 1, dst\n",
    "test_merge['WEEKDAYS_APPLY'].replace({'MONDAY':1,'TUESDAY':2,'WEDNESDAY':3, 'THURSDAY':4,'FRIDAY':5,'SATURDAY':6, 'SUNDAY':7},inplace=True)\n",
    "# melakukan encoding pada kategori value menjadi number sehingga memudahkan model untuk memprediksi target\n",
    "test_merge = pd.get_dummies(test_merge, columns=['GENDER'])\n",
    "test_merge['CONTRACT_TYPE'] = LE.fit_transform(test_merge['CONTRACT_TYPE'])\n",
    "test_merge['INCOME_TYPE'] = LE.fit_transform(test_merge['INCOME_TYPE'])\n",
    "test_merge['EDUCATION'] = LE.fit_transform(test_merge['EDUCATION'])\n",
    "test_merge['FAMILY_STATUS'] = LE.fit_transform(test_merge['FAMILY_STATUS'])\n",
    "test_merge['HOUSING_TYPE'] = LE.fit_transform(test_merge['HOUSING_TYPE'])\n",
    "test_merge['ORGANIZATION_TYPE'] = LE.fit_transform(test_merge['ORGANIZATION_TYPE'])\n",
    "test_merge.head()\n"
   ]
  },
  {
   "cell_type": "code",
   "execution_count": 20,
   "metadata": {},
   "outputs": [
    {
     "name": "stdout",
     "output_type": "stream",
     "text": [
      "<class 'pandas.core.frame.DataFrame'>\n",
      "Int64Index: 560727 entries, 0 to 562491\n",
      "Data columns (total 28 columns):\n",
      " #   Column             Non-Null Count   Dtype  \n",
      "---  ------             --------------   -----  \n",
      " 0   LN_ID              560727 non-null  int64  \n",
      " 1   TARGET             560727 non-null  int64  \n",
      " 2   CONTRACT_TYPE      560727 non-null  int64  \n",
      " 3   NUM_CHILDREN       560727 non-null  int64  \n",
      " 4   INCOME             560727 non-null  float64\n",
      " 5   APPROVED_CREDIT    560727 non-null  float64\n",
      " 6   ANNUITY            560727 non-null  float64\n",
      " 7   PRICE              560727 non-null  float64\n",
      " 8   INCOME_TYPE        560727 non-null  int64  \n",
      " 9   EDUCATION          560727 non-null  int64  \n",
      " 10  FAMILY_STATUS      560727 non-null  int64  \n",
      " 11  HOUSING_TYPE       560727 non-null  int64  \n",
      " 12  DAYS_AGE           560727 non-null  int64  \n",
      " 13  DAYS_WORK          560727 non-null  int64  \n",
      " 14  DAYS_REGISTRATION  560727 non-null  int64  \n",
      " 15  DAYS_ID_CHANGE     560727 non-null  int64  \n",
      " 16  WEEKDAYS_APPLY     560727 non-null  int64  \n",
      " 17  HOUR_APPLY         560727 non-null  int64  \n",
      " 18  ORGANIZATION_TYPE  560727 non-null  int64  \n",
      " 19  EXT_SCORE_2        560727 non-null  float64\n",
      " 20  SK_ID_PREV         560727 non-null  int64  \n",
      " 21  INST_NUMBER        560727 non-null  int64  \n",
      " 22  INST_DAYS          560727 non-null  int64  \n",
      " 23  PAY_DAYS           560727 non-null  int64  \n",
      " 24  AMT_INST           560727 non-null  float64\n",
      " 25  AMT_PAY            560727 non-null  float64\n",
      " 26  GENDER_F           560727 non-null  uint8  \n",
      " 27  GENDER_M           560727 non-null  uint8  \n",
      "dtypes: float64(7), int64(19), uint8(2)\n",
      "memory usage: 116.6 MB\n"
     ]
    }
   ],
   "source": [
    "# cek lagi info dari dataset nya\n",
    "test_merge.info()"
   ]
  },
  {
   "cell_type": "markdown",
   "metadata": {},
   "source": [
    "## 2.2 HANDLING OUTLIERS"
   ]
  },
  {
   "cell_type": "markdown",
   "metadata": {},
   "source": [
    "Saya akan melihat apakah ada outlier di data kita dan akan kita coba untuk menanganinya agar tidak teradi salah interpretasi terhadap target varibel kita. Namun kita perlu cek juga apakah outlier ini salah input atau memang dia anomali."
   ]
  },
  {
   "cell_type": "markdown",
   "metadata": {},
   "source": [
    "### 2.2.1 TRAIN DATASET \n"
   ]
  },
  {
   "cell_type": "code",
   "execution_count": 21,
   "metadata": {},
   "outputs": [],
   "source": [
    "# Saya akan menggunakan Inter Quartile Range untuk menangani ouliers\n",
    "# Menentukan Limit\n",
    "def limit(data,i):\n",
    "    Q1 = data[i].quantile(0.25)\n",
    "    Q3 = data[i].quantile(0.75)\n",
    "    IQR = Q3 - Q1\n",
    "    \n",
    "    #menentukan upper limit biasa dan upper limit ekstim\n",
    "    lower_limit = data[i].quantile(0.25) - (IQR * 1.5)\n",
    "    lower_limit_extreme = data[i].quantile(0.25) - (IQR * 3)\n",
    "    upper_limit = data[i].quantile(0.75) + (IQR * 1.5)\n",
    "    upper_limit_extreme = data[i].quantile(0.75) + (IQR * 3)\n",
    "    print('Lower Limit:', lower_limit)\n",
    "    print('Lower Limit Extreme:', lower_limit_extreme)\n",
    "    print('Upper Limit:', upper_limit)\n",
    "    print('Upper Limit Extreme:', upper_limit_extreme)\n",
    "\n",
    "#Mengitung persen outliers dari data    \n",
    "def percent_outliers(data,i):\n",
    "    Q1 = data[i].quantile(0.25)\n",
    "    Q3 = data[i].quantile(0.75)\n",
    "    IQR = Q3 - Q1\n",
    "    \n",
    "    #menentukan upper limit biasa dan upper limit ekstim\n",
    "    lower_limit = data[i].quantile(0.25) - (IQR * 1.5)\n",
    "    lower_limit_extreme = data[i].quantile(0.25) - (IQR * 3)\n",
    "    upper_limit = data[i].quantile(0.75) + (IQR * 1.5)\n",
    "    upper_limit_extreme = data[i].quantile(0.75) + (IQR * 3)\n",
    "    #melihat persenan outliers terhadap total data\n",
    "    print('Lower Limit: {} %'.format(data[(data[i] < lower_limit)].shape[0]/ data.shape[0]*100))\n",
    "    print('Lower Limit Extereme: {} %'.format(data[(data[i] < lower_limit_extreme)].shape[0]/data.shape[0]*100))\n",
    "    print('Upper Limit: {} %'.format(data[(data[i] > upper_limit)].shape[0]/ data.shape[0]*100))\n",
    "    print('Upper Limit Extereme: {} %'.format(data[(data[i] > upper_limit_extreme)].shape[0]/data.shape[0]*100))"
   ]
  },
  {
   "cell_type": "code",
   "execution_count": 22,
   "metadata": {},
   "outputs": [
    {
     "data": {
      "text/plain": [
       "0.2431953471124383"
      ]
     },
     "execution_count": 22,
     "metadata": {},
     "output_type": "execute_result"
    }
   ],
   "source": [
    "test_merge.shape[0]/train_merge.shape[0]"
   ]
  },
  {
   "cell_type": "markdown",
   "metadata": {},
   "source": [
    "untuk memudahkan melakukan cleaning saya akan merge data train dan test"
   ]
  },
  {
   "cell_type": "code",
   "execution_count": 23,
   "metadata": {},
   "outputs": [
    {
     "data": {
      "text/plain": [
       "(2866392, 28)"
      ]
     },
     "execution_count": 23,
     "metadata": {},
     "output_type": "execute_result"
    }
   ],
   "source": [
    "clean_concat = pd.concat([train_merge, test_merge])\n",
    "clean_concat.shape"
   ]
  },
  {
   "cell_type": "code",
   "execution_count": 24,
   "metadata": {},
   "outputs": [
    {
     "data": {
      "text/plain": [
       "Text(0.5, 0, 'Jumlah')"
      ]
     },
     "execution_count": 24,
     "metadata": {},
     "output_type": "execute_result"
    },
    {
     "data": {
      "image/png": "[encoded data removed]",
      "text/plain": [
       "<Figure size 1152x648 with 1 Axes>"
      ]
     },
     "metadata": {
      "needs_background": "light"
     },
     "output_type": "display_data"
    }
   ],
   "source": [
    "# saya akan cek distribusi kolom INCOME\n",
    "f, ax = plt.subplots(figsize=(16,9))\n",
    "sns.boxplot(x=clean_concat['INCOME'])\n",
    "plt.title('INCOME Outliers', fontsize=20)\n",
    "plt.xlabel('Jumlah', fontsize=15)"
   ]
  },
  {
   "cell_type": "code",
   "execution_count": 25,
   "metadata": {},
   "outputs": [
    {
     "name": "stdout",
     "output_type": "stream",
     "text": [
      "Lower Limit: -42750.0\n",
      "Lower Limit Extreme: -198000.0\n",
      "Upper Limit: 371250.0\n",
      "Upper Limit Extreme: 526500.0\n",
      "None\n",
      "--------------------------------------------------\n",
      "Lower Limit: 0.0 %\n",
      "Lower Limit Extereme: 0.0 %\n",
      "Upper Limit: 3.1067279004406934 %\n",
      "Upper Limit Extereme: 0.8125894853181282 %\n",
      "None\n"
     ]
    }
   ],
   "source": [
    "# saya akan cek limit outliers dan berapa persen dari data kita yang melebihi limit tersebut\n",
    "print(limit(clean_concat,'INCOME'))\n",
    "print('-'*50)\n",
    "print(percent_outliers(clean_concat,'INCOME'))"
   ]
  },
  {
   "cell_type": "code",
   "execution_count": 26,
   "metadata": {},
   "outputs": [
    {
     "data": {
      "text/plain": [
       "Text(0.5, 0, 'Jumlah')"
      ]
     },
     "execution_count": 26,
     "metadata": {},
     "output_type": "execute_result"
    },
    {
     "data": {
      "image/png": "[encoded data removed]",
      "text/plain": [
       "<Figure size 1152x648 with 1 Axes>"
      ]
     },
     "metadata": {
      "needs_background": "light"
     },
     "output_type": "display_data"
    }
   ],
   "source": [
    "# karena kurang dari 5% data maka akan saya drop outliers ini\n",
    "clean_concat.drop(index=clean_concat[clean_concat.INCOME >371250.0].index, inplace=True)\n",
    "# saya akan cek distribusi kolom INCOME\n",
    "f, ax = plt.subplots(figsize=(16,9))\n",
    "sns.boxplot(x=clean_concat['INCOME'])\n",
    "plt.title('INCOME Outliers', fontsize=20)\n",
    "plt.xlabel('Jumlah', fontsize=15)"
   ]
  },
  {
   "cell_type": "code",
   "execution_count": 27,
   "metadata": {},
   "outputs": [
    {
     "name": "stdout",
     "output_type": "stream",
     "text": [
      "Lower Limit: -22500.0\n",
      "Lower Limit Extreme: -157500.0\n",
      "Upper Limit: 337500.0\n",
      "Upper Limit Extreme: 472500.0\n",
      "None\n",
      "--------------------------------------------------\n",
      "Lower Limit: 0.0 %\n",
      "Lower Limit Extereme: 0.0 %\n",
      "Upper Limit: 1.809482798820224 %\n",
      "Upper Limit Extereme: 0.0 %\n",
      "None\n"
     ]
    }
   ],
   "source": [
    "# saya akan cek limit outliers dan berapa persen dari data kita yang melebihi limit tersebut\n",
    "print(limit(clean_concat,'INCOME'))\n",
    "print('-'*50)\n",
    "print(percent_outliers(clean_concat,'INCOME'))"
   ]
  },
  {
   "cell_type": "code",
   "execution_count": 28,
   "metadata": {},
   "outputs": [
    {
     "data": {
      "text/plain": [
       "Text(0.5, 0, 'Jumlah')"
      ]
     },
     "execution_count": 28,
     "metadata": {},
     "output_type": "execute_result"
    },
    {
     "data": {
      "image/png": "[encoded data removed]",
      "text/plain": [
       "<Figure size 1152x648 with 1 Axes>"
      ]
     },
     "metadata": {
      "needs_background": "light"
     },
     "output_type": "display_data"
    }
   ],
   "source": [
    "# karena kurang dari 5% data maka akan saya drop outliers ini\n",
    "clean_concat.drop(index=clean_concat[clean_concat.INCOME >337500.0].index, inplace=True)\n",
    "# saya akan cek distribusi kolom INCOME\n",
    "f, ax = plt.subplots(figsize=(16,9))\n",
    "sns.boxplot(x=clean_concat['INCOME'])\n",
    "plt.title('INCOME Outliers', fontsize=20)\n",
    "plt.xlabel('Jumlah', fontsize=15)"
   ]
  },
  {
   "cell_type": "code",
   "execution_count": 29,
   "metadata": {},
   "outputs": [
    {
     "data": {
      "text/plain": [
       "Text(0.5, 0, 'Jumlah')"
      ]
     },
     "execution_count": 29,
     "metadata": {},
     "output_type": "execute_result"
    },
    {
     "data": {
      "image/png": "[encoded data removed]",
      "text/plain": [
       "<Figure size 1152x648 with 1 Axes>"
      ]
     },
     "metadata": {
      "needs_background": "light"
     },
     "output_type": "display_data"
    }
   ],
   "source": [
    "# cek outliers pada kolom APPROVED_CREDIT\n",
    "f, ax = plt.subplots(figsize=(16,9))\n",
    "sns.boxplot(x=clean_concat['APPROVED_CREDIT'])\n",
    "plt.title('APPROVED_CREDIT Outliers', fontsize=20)\n",
    "plt.xlabel('Jumlah', fontsize=15)"
   ]
  },
  {
   "cell_type": "code",
   "execution_count": 30,
   "metadata": {},
   "outputs": [
    {
     "name": "stdout",
     "output_type": "stream",
     "text": [
      "Lower Limit: -501975.0\n",
      "Lower Limit Extreme: -1288350.0\n",
      "Upper Limit: 1595025.0\n",
      "Upper Limit Extreme: 2381400.0\n",
      "None\n",
      "--------------------------------------------------\n",
      "Lower Limit: 0.0 %\n",
      "Lower Limit Extereme: 0.0 %\n",
      "Upper Limit: 1.6330877486502922 %\n",
      "Upper Limit Extereme: 0.02904162994468279 %\n",
      "None\n"
     ]
    }
   ],
   "source": [
    "# saya akan cek limit outliers dan berapa persen dari data kita yang melebihi limit tersebut\n",
    "print(limit(clean_concat,'APPROVED_CREDIT'))\n",
    "print('-'*50)\n",
    "print(percent_outliers(clean_concat,'APPROVED_CREDIT'))"
   ]
  },
  {
   "cell_type": "code",
   "execution_count": 31,
   "metadata": {},
   "outputs": [
    {
     "data": {
      "text/plain": [
       "Text(0.5, 0, 'Jumlah')"
      ]
     },
     "execution_count": 31,
     "metadata": {},
     "output_type": "execute_result"
    },
    {
     "data": {
      "image/png": "[encoded data removed]",
      "text/plain": [
       "<Figure size 1152x648 with 1 Axes>"
      ]
     },
     "metadata": {
      "needs_background": "light"
     },
     "output_type": "display_data"
    }
   ],
   "source": [
    "# karena kurang dari 5% data maka akan saya drop outliers ini\n",
    "clean_concat.drop(index=clean_concat[clean_concat.APPROVED_CREDIT > 1595025.0].index, inplace=True)\n",
    "# saya akan cek distribusi kolom INCOME\n",
    "f, ax = plt.subplots(figsize=(16,9))\n",
    "sns.boxplot(x=clean_concat['APPROVED_CREDIT'])\n",
    "plt.title('APPROVED_CREDIT Outliers', fontsize=20)\n",
    "plt.xlabel('Jumlah', fontsize=15)"
   ]
  },
  {
   "cell_type": "code",
   "execution_count": 32,
   "metadata": {},
   "outputs": [
    {
     "data": {
      "text/plain": [
       "Text(0.5, 0, 'Jumlah')"
      ]
     },
     "execution_count": 32,
     "metadata": {},
     "output_type": "execute_result"
    },
    {
     "data": {
      "image/png": "[encoded data removed]",
      "text/plain": [
       "<Figure size 1152x648 with 1 Axes>"
      ]
     },
     "metadata": {
      "needs_background": "light"
     },
     "output_type": "display_data"
    }
   ],
   "source": [
    "# cek outliers pada kolom ANNUITY\n",
    "f, ax = plt.subplots(figsize=(16,9))\n",
    "sns.boxplot(x=clean_concat['ANNUITY'])\n",
    "plt.title('ANNUITY Outliers', fontsize=20)\n",
    "plt.xlabel('Jumlah', fontsize=15)"
   ]
  },
  {
   "cell_type": "code",
   "execution_count": 33,
   "metadata": {},
   "outputs": [
    {
     "name": "stdout",
     "output_type": "stream",
     "text": [
      "Lower Limit: -7818.75\n",
      "Lower Limit Extreme: -32476.5\n",
      "Upper Limit: 57935.25\n",
      "Upper Limit Extreme: 82593.0\n",
      "None\n",
      "--------------------------------------------------\n",
      "Lower Limit: 0.0 %\n",
      "Lower Limit Extereme: 0.0 %\n",
      "Upper Limit: 1.5795383922694886 %\n",
      "Upper Limit Extereme: 0.18896669920583534 %\n",
      "None\n"
     ]
    }
   ],
   "source": [
    "# saya akan cek limit outliers dan berapa persen dari data kita yang melebihi limit tersebut\n",
    "print(limit(clean_concat,'ANNUITY'))\n",
    "print('-'*50)\n",
    "print(percent_outliers(clean_concat,'ANNUITY'))"
   ]
  },
  {
   "cell_type": "code",
   "execution_count": 34,
   "metadata": {},
   "outputs": [
    {
     "data": {
      "text/plain": [
       "Text(0.5, 0, 'Jumlah')"
      ]
     },
     "execution_count": 34,
     "metadata": {},
     "output_type": "execute_result"
    },
    {
     "data": {
      "image/png": "[encoded data removed]",
      "text/plain": [
       "<Figure size 1152x648 with 1 Axes>"
      ]
     },
     "metadata": {
      "needs_background": "light"
     },
     "output_type": "display_data"
    }
   ],
   "source": [
    "# karena kurang dari 5% data maka akan saya drop outliers ini\n",
    "clean_concat.drop(index=clean_concat[clean_concat.ANNUITY > 57935.25].index, inplace=True)\n",
    "# saya akan cek distribusi kolom INCOME\n",
    "f, ax = plt.subplots(figsize=(16,9))\n",
    "sns.boxplot(x=clean_concat['ANNUITY'])\n",
    "plt.title('ANNUITY Outliers', fontsize=20)\n",
    "plt.xlabel('Jumlah', fontsize=15)"
   ]
  },
  {
   "cell_type": "code",
   "execution_count": 35,
   "metadata": {},
   "outputs": [
    {
     "name": "stdout",
     "output_type": "stream",
     "text": [
      "Lower Limit: -7443.0\n",
      "Lower Limit Extreme: -31567.5\n",
      "Upper Limit: 56889.0\n",
      "Upper Limit Extreme: 81013.5\n",
      "None\n",
      "--------------------------------------------------\n",
      "Lower Limit: 0.0 %\n",
      "Lower Limit Extereme: 0.0 %\n",
      "Upper Limit: 0.28031263747039625 %\n",
      "Upper Limit Extereme: 0.0 %\n",
      "None\n"
     ]
    }
   ],
   "source": [
    "# saya akan cek limit outliers dan berapa persen dari data kita yang melebihi limit tersebut\n",
    "print(limit(clean_concat,'ANNUITY'))\n",
    "print('-'*50)\n",
    "print(percent_outliers(clean_concat,'ANNUITY'))"
   ]
  },
  {
   "cell_type": "code",
   "execution_count": 36,
   "metadata": {},
   "outputs": [
    {
     "data": {
      "text/plain": [
       "Text(0.5, 0, 'Jumlah')"
      ]
     },
     "execution_count": 36,
     "metadata": {},
     "output_type": "execute_result"
    },
    {
     "data": {
      "image/png": "[encoded data removed]",
      "text/plain": [
       "<Figure size 1152x648 with 1 Axes>"
      ]
     },
     "metadata": {
      "needs_background": "light"
     },
     "output_type": "display_data"
    }
   ],
   "source": [
    "# karena kurang dari 5% data maka akan saya drop outliers ini\n",
    "clean_concat.drop(index=clean_concat[clean_concat.ANNUITY >56889.0].index, inplace=True)\n",
    "# saya akan cek distribusi kolom INCOME\n",
    "f, ax = plt.subplots(figsize=(16,9))\n",
    "sns.boxplot(x=clean_concat['ANNUITY'])\n",
    "plt.title('ANNUITY Outliers', fontsize=20)\n",
    "plt.xlabel('Jumlah', fontsize=15)"
   ]
  },
  {
   "cell_type": "code",
   "execution_count": 37,
   "metadata": {},
   "outputs": [
    {
     "name": "stdout",
     "output_type": "stream",
     "text": [
      "Lower Limit: -7362.0\n",
      "Lower Limit Extreme: -31378.5\n",
      "Upper Limit: 56682.0\n",
      "Upper Limit Extreme: 80698.5\n",
      "None\n",
      "--------------------------------------------------\n",
      "Lower Limit: 0.0 %\n",
      "Lower Limit Extereme: 0.0 %\n",
      "Upper Limit: 0.02842925429085676 %\n",
      "Upper Limit Extereme: 0.0 %\n",
      "None\n"
     ]
    }
   ],
   "source": [
    "# saya akan cek limit outliers dan berapa persen dari data kita yang melebihi limit tersebut\n",
    "print(limit(clean_concat,'ANNUITY'))\n",
    "print('-'*50)\n",
    "print(percent_outliers(clean_concat,'ANNUITY'))"
   ]
  },
  {
   "cell_type": "markdown",
   "metadata": {},
   "source": [
    "karena data outlier kurang dari 0.05 maka akan kita biarkan saja"
   ]
  },
  {
   "cell_type": "code",
   "execution_count": 38,
   "metadata": {},
   "outputs": [
    {
     "data": {
      "text/plain": [
       "Text(0.5, 0, 'Jumlah')"
      ]
     },
     "execution_count": 38,
     "metadata": {},
     "output_type": "execute_result"
    },
    {
     "data": {
      "image/png": "[encoded data removed]",
      "text/plain": [
       "<Figure size 1152x648 with 1 Axes>"
      ]
     },
     "metadata": {
      "needs_background": "light"
     },
     "output_type": "display_data"
    }
   ],
   "source": [
    "# saya akan cek ouliers kolom PRICE\n",
    "f, ax = plt.subplots(figsize=(16,9))\n",
    "sns.boxplot(x=clean_concat['PRICE'])\n",
    "plt.title('PRICE Outliers', fontsize=20)\n",
    "plt.xlabel('Jumlah', fontsize=15)"
   ]
  },
  {
   "cell_type": "code",
   "execution_count": 39,
   "metadata": {},
   "outputs": [
    {
     "name": "stdout",
     "output_type": "stream",
     "text": [
      "Lower Limit: -416250.0\n",
      "Lower Limit Extreme: -1071000.0\n",
      "Upper Limit: 1329750.0\n",
      "Upper Limit Extreme: 1984500.0\n",
      "None\n",
      "--------------------------------------------------\n",
      "Lower Limit: 0.0 %\n",
      "Lower Limit Extereme: 0.0 %\n",
      "Upper Limit: 2.0085170124578955 %\n",
      "Upper Limit Extereme: 0.0 %\n",
      "None\n"
     ]
    }
   ],
   "source": [
    "# saya akan cek limit outliers dan berapa persen dari data kita yang melebihi limit tersebut\n",
    "print(limit(clean_concat,'PRICE'))\n",
    "print('-'*50)\n",
    "print(percent_outliers(clean_concat,'PRICE'))"
   ]
  },
  {
   "cell_type": "code",
   "execution_count": 40,
   "metadata": {},
   "outputs": [
    {
     "data": {
      "text/plain": [
       "Text(0.5, 0, 'Jumlah')"
      ]
     },
     "execution_count": 40,
     "metadata": {},
     "output_type": "execute_result"
    },
    {
     "data": {
      "image/png": "[encoded data removed]",
      "text/plain": [
       "<Figure size 1152x648 with 1 Axes>"
      ]
     },
     "metadata": {
      "needs_background": "light"
     },
     "output_type": "display_data"
    }
   ],
   "source": [
    "# karena kurang dari 5% data maka akan saya drop outliers ini\n",
    "clean_concat.drop(index=clean_concat[clean_concat.PRICE >1329750.0].index, inplace=True)\n",
    "# saya akan cek distribusi kolom INCOME\n",
    "f, ax = plt.subplots(figsize=(16,9))\n",
    "sns.boxplot(x=clean_concat['PRICE'])\n",
    "plt.title('PRICE Outliers', fontsize=20)\n",
    "plt.xlabel('Jumlah', fontsize=15)"
   ]
  },
  {
   "cell_type": "code",
   "execution_count": 41,
   "metadata": {},
   "outputs": [],
   "source": [
    "# clean_concat.LN_ID.dtypes == 'int64'"
   ]
  },
  {
   "cell_type": "code",
   "execution_count": 42,
   "metadata": {},
   "outputs": [],
   "source": [
    "# int_col = [col for col in clean_concat.columns if clean_concat[col].dtype == 'int64']\n",
    "# int_col.remove('LN_ID')\n",
    "# int_col.remove('TARGET')\n",
    "# int_col.remove('CONTRACT_TYPE')\n",
    "# int_col.remove('NUM_CHILDREN')\n",
    "# int_col.remove('INCOME_TYPE')\n",
    "# int_col.remove('EDUCATION')\n",
    "# int_col.remove('FAMILY_STATUS')\n",
    "# int_col.remove('HOUSING_TYPE')\n",
    "# int_col.remove('WEEKDAYS_APPLY')\n",
    "# int_col.remove('ORGANIZATION_TYPE')\n",
    "# for i in int_col:\n",
    "#     # saya akan cek distribusi tiap kolom \n",
    "#     f, ax = plt.subplots(figsize=(16,9))\n",
    "#     sns.boxplot(x=clean_concat[i])\n",
    "#     plt.title(f'{i} Outliers', fontsize=20)\n",
    "#     plt.xlabel('Jumlah', fontsize=15)"
   ]
  },
  {
   "cell_type": "markdown",
   "metadata": {},
   "source": [
    "Ada 4 kolom int64 yang memiliki outliers, yaitu :\n",
    "- DAYS_WORK\n",
    "- DAYS_REGISTRATION\n",
    "- HOUR_APPLY\n",
    "- INST_NUMBER\n",
    "\n",
    "kita tidak akan remove outliers hour apply karena ini adalah data real dan tidak mungkin salah input"
   ]
  },
  {
   "cell_type": "markdown",
   "metadata": {},
   "source": [
    "Setelah di analisaoutliers pada kolom DAYS_WORK seperti nya merupakan salah input dimana value 365243 seharusnya 365.25 (1 tahun dalam hari), maka saya akan mengganti value tsb"
   ]
  },
  {
   "cell_type": "code",
   "execution_count": 43,
   "metadata": {},
   "outputs": [
    {
     "data": {
      "text/plain": [
       "array([365243])"
      ]
     },
     "execution_count": 43,
     "metadata": {},
     "output_type": "execute_result"
    }
   ],
   "source": [
    "clean_concat[clean_concat.DAYS_WORK > 0]['DAYS_WORK'].unique()"
   ]
  },
  {
   "cell_type": "code",
   "execution_count": 44,
   "metadata": {},
   "outputs": [
    {
     "data": {
      "text/plain": [
       "Text(0.5, 0, 'Jumlah')"
      ]
     },
     "execution_count": 44,
     "metadata": {},
     "output_type": "execute_result"
    },
    {
     "data": {
      "image/png": "[encoded data removed]",
      "text/plain": [
       "<Figure size 1152x648 with 1 Axes>"
      ]
     },
     "metadata": {
      "needs_background": "light"
     },
     "output_type": "display_data"
    }
   ],
   "source": [
    "clean_concat['DAYS_WORK'] = clean_concat['DAYS_WORK'].replace({365243:365})\n",
    "# saya akan cek distribusi kolom DAYS_WORK\n",
    "f, ax = plt.subplots(figsize=(16,9))\n",
    "sns.boxplot(x=clean_concat['DAYS_WORK'])\n",
    "plt.title('DAYS_WORK Outliers', fontsize=20)\n",
    "plt.xlabel('Jumlah', fontsize=15)"
   ]
  },
  {
   "cell_type": "code",
   "execution_count": 45,
   "metadata": {},
   "outputs": [
    {
     "name": "stdout",
     "output_type": "stream",
     "text": [
      "Lower Limit: -7292.0\n",
      "Lower Limit Extreme: -11525.0\n",
      "Upper Limit: 3996.0\n",
      "Upper Limit Extreme: 8229.0\n",
      "None\n",
      "--------------------------------------------------\n",
      "Lower Limit: 4.570456743560648 %\n",
      "Lower Limit Extereme: 0.8830582285905106 %\n",
      "Upper Limit: 0.0 %\n",
      "Upper Limit Extereme: 0.0 %\n",
      "None\n"
     ]
    }
   ],
   "source": [
    "# saya akan cek limit outliers dan berapa persen dari data kita yang melebihi limit tersebut\n",
    "print(limit(clean_concat,'DAYS_WORK'))\n",
    "print('-'*50)\n",
    "print(percent_outliers(clean_concat,'DAYS_WORK'))"
   ]
  },
  {
   "cell_type": "code",
   "execution_count": 46,
   "metadata": {},
   "outputs": [
    {
     "data": {
      "text/plain": [
       "Text(0.5, 0, 'Jumlah')"
      ]
     },
     "execution_count": 46,
     "metadata": {},
     "output_type": "execute_result"
    },
    {
     "data": {
      "image/png": "[encoded data removed]",
      "text/plain": [
       "<Figure size 1152x648 with 1 Axes>"
      ]
     },
     "metadata": {
      "needs_background": "light"
     },
     "output_type": "display_data"
    }
   ],
   "source": [
    "# karena kurang dari 5% data maka akan saya drop outliers ini\n",
    "clean_concat.drop(index=clean_concat[clean_concat.DAYS_WORK < -7286.0].index, inplace=True)\n",
    "# saya akan cek distribusi kolom INCOME\n",
    "f, ax = plt.subplots(figsize=(16,9))\n",
    "sns.boxplot(x=clean_concat['DAYS_WORK'])\n",
    "plt.title('DAYS_WORK Outliers', fontsize=20)\n",
    "plt.xlabel('Jumlah', fontsize=15)"
   ]
  },
  {
   "cell_type": "code",
   "execution_count": 47,
   "metadata": {},
   "outputs": [
    {
     "name": "stdout",
     "output_type": "stream",
     "text": [
      "Lower Limit: -6609.0\n",
      "Lower Limit Extreme: -10455.0\n",
      "Upper Limit: 3647.0\n",
      "Upper Limit Extreme: 7493.0\n",
      "None\n",
      "--------------------------------------------------\n",
      "Lower Limit: 1.2546099491650382 %\n",
      "Lower Limit Extereme: 0.0 %\n",
      "Upper Limit: 0.0 %\n",
      "Upper Limit Extereme: 0.0 %\n",
      "None\n"
     ]
    }
   ],
   "source": [
    "# saya akan cek limit outliers dan berapa persen dari data kita yang melebihi limit tersebut\n",
    "print(limit(clean_concat,'DAYS_WORK'))\n",
    "print('-'*50)\n",
    "print(percent_outliers(clean_concat,'DAYS_WORK'))"
   ]
  },
  {
   "cell_type": "code",
   "execution_count": 48,
   "metadata": {},
   "outputs": [
    {
     "data": {
      "text/plain": [
       "Text(0.5, 0, 'Jumlah')"
      ]
     },
     "execution_count": 48,
     "metadata": {},
     "output_type": "execute_result"
    },
    {
     "data": {
      "image/png": "[encoded data removed]",
      "text/plain": [
       "<Figure size 1152x648 with 1 Axes>"
      ]
     },
     "metadata": {
      "needs_background": "light"
     },
     "output_type": "display_data"
    }
   ],
   "source": [
    "# karena kurang dari 5% data maka akan saya drop outliers ini\n",
    "clean_concat.drop(index=clean_concat[clean_concat.DAYS_WORK < -6610.5].index, inplace=True)\n",
    "# saya akan cek distribusi kolom INCOME\n",
    "f, ax = plt.subplots(figsize=(16,9))\n",
    "sns.boxplot(x=clean_concat['DAYS_WORK'])\n",
    "plt.title('DAYS_WORK Outliers', fontsize=20)\n",
    "plt.xlabel('Jumlah', fontsize=15)"
   ]
  },
  {
   "cell_type": "code",
   "execution_count": 49,
   "metadata": {},
   "outputs": [
    {
     "name": "stdout",
     "output_type": "stream",
     "text": [
      "Lower Limit: -6451.5\n",
      "Lower Limit Extreme: -10209.0\n",
      "Upper Limit: 3568.5\n",
      "Upper Limit Extreme: 7326.0\n",
      "None\n",
      "--------------------------------------------------\n",
      "Lower Limit: 0.29627386195968425 %\n",
      "Lower Limit Extereme: 0.0 %\n",
      "Upper Limit: 0.0 %\n",
      "Upper Limit Extereme: 0.0 %\n",
      "None\n"
     ]
    }
   ],
   "source": [
    "# saya akan cek limit outliers dan berapa persen dari data kita yang melebihi limit tersebut\n",
    "print(limit(clean_concat,'DAYS_WORK'))\n",
    "print('-'*50)\n",
    "print(percent_outliers(clean_concat,'DAYS_WORK'))"
   ]
  },
  {
   "cell_type": "code",
   "execution_count": 50,
   "metadata": {},
   "outputs": [
    {
     "data": {
      "text/plain": [
       "Text(0.5, 0, 'Jumlah')"
      ]
     },
     "execution_count": 50,
     "metadata": {},
     "output_type": "execute_result"
    },
    {
     "data": {
      "image/png": "[encoded data removed]",
      "text/plain": [
       "<Figure size 1152x648 with 1 Axes>"
      ]
     },
     "metadata": {
      "needs_background": "light"
     },
     "output_type": "display_data"
    }
   ],
   "source": [
    "# karena kurang dari 5% data maka akan saya drop outliers ini\n",
    "clean_concat.drop(index=clean_concat[clean_concat.DAYS_WORK < -6451.5].index, inplace=True)\n",
    "# saya akan cek distribusi kolom INCOME\n",
    "f, ax = plt.subplots(figsize=(16,9))\n",
    "sns.boxplot(x=clean_concat['DAYS_WORK'])\n",
    "plt.title('DAYS_WORK Outliers', fontsize=20)\n",
    "plt.xlabel('Jumlah', fontsize=15)"
   ]
  },
  {
   "cell_type": "code",
   "execution_count": 51,
   "metadata": {},
   "outputs": [
    {
     "name": "stdout",
     "output_type": "stream",
     "text": [
      "Lower Limit: -6418.0\n",
      "Lower Limit Extreme: -10156.0\n",
      "Upper Limit: 3550.0\n",
      "Upper Limit Extreme: 7288.0\n",
      "None\n",
      "--------------------------------------------------\n",
      "Lower Limit: 0.09948752965451531 %\n",
      "Lower Limit Extereme: 0.0 %\n",
      "Upper Limit: 0.0 %\n",
      "Upper Limit Extereme: 0.0 %\n",
      "None\n"
     ]
    }
   ],
   "source": [
    "# saya akan cek limit outliers dan berapa persen dari data kita yang melebihi limit tersebut\n",
    "print(limit(clean_concat,'DAYS_WORK'))\n",
    "print('-'*50)\n",
    "print(percent_outliers(clean_concat,'DAYS_WORK'))"
   ]
  },
  {
   "cell_type": "code",
   "execution_count": 52,
   "metadata": {},
   "outputs": [
    {
     "data": {
      "text/plain": [
       "Text(0.5, 0, 'Jumlah')"
      ]
     },
     "execution_count": 52,
     "metadata": {},
     "output_type": "execute_result"
    },
    {
     "data": {
      "image/png": "[encoded data removed]",
      "text/plain": [
       "<Figure size 1152x648 with 1 Axes>"
      ]
     },
     "metadata": {
      "needs_background": "light"
     },
     "output_type": "display_data"
    }
   ],
   "source": [
    "# karena kurang dari 5% data maka akan saya drop outliers ini\n",
    "clean_concat.drop(index=clean_concat[clean_concat.DAYS_WORK < -6414.5].index, inplace=True)\n",
    "# saya akan cek distribusi kolom INCOME\n",
    "f, ax = plt.subplots(figsize=(16,9))\n",
    "sns.boxplot(x=clean_concat['DAYS_WORK'])\n",
    "plt.title('DAYS_WORK Outliers', fontsize=20)\n",
    "plt.xlabel('Jumlah', fontsize=15)"
   ]
  },
  {
   "cell_type": "code",
   "execution_count": 53,
   "metadata": {},
   "outputs": [
    {
     "name": "stdout",
     "output_type": "stream",
     "text": [
      "Lower Limit: -6403.5\n",
      "Lower Limit Extreme: -10134.0\n",
      "Upper Limit: 3544.5\n",
      "Upper Limit Extreme: 7275.0\n",
      "None\n",
      "--------------------------------------------------\n",
      "Lower Limit: 0.01456912258775702 %\n",
      "Lower Limit Extereme: 0.0 %\n",
      "Upper Limit: 0.0 %\n",
      "Upper Limit Extereme: 0.0 %\n",
      "None\n"
     ]
    }
   ],
   "source": [
    "# saya akan cek limit outliers dan berapa persen dari data kita yang melebihi limit tersebut\n",
    "print(limit(clean_concat,'DAYS_WORK'))\n",
    "print('-'*50)\n",
    "print(percent_outliers(clean_concat,'DAYS_WORK'))"
   ]
  },
  {
   "cell_type": "markdown",
   "metadata": {},
   "source": [
    "karena lebih kecil dari 0.05 % maka akan kita biarkan saja outliers ini"
   ]
  },
  {
   "cell_type": "code",
   "execution_count": 54,
   "metadata": {},
   "outputs": [
    {
     "data": {
      "text/plain": [
       "Text(0.5, 0, 'Jumlah')"
      ]
     },
     "execution_count": 54,
     "metadata": {},
     "output_type": "execute_result"
    },
    {
     "data": {
      "image/png": "[encoded data removed]",
      "text/plain": [
       "<Figure size 1152x648 with 1 Axes>"
      ]
     },
     "metadata": {
      "needs_background": "light"
     },
     "output_type": "display_data"
    }
   ],
   "source": [
    "# karena kurang dari 5% data maka akan saya drop outliers pada kolom DAYS_REGISTRATION ini\n",
    "clean_concat.drop(index=clean_concat[clean_concat.DAYS_REGISTRATION < -16172.0].index, inplace=True)\n",
    "# saya akan cek distribusi kolom INCOME\n",
    "f, ax = plt.subplots(figsize=(16,9))\n",
    "sns.boxplot(x=clean_concat['DAYS_REGISTRATION'])\n",
    "plt.title('DAYS_REGISTRATION Outliers', fontsize=20)\n",
    "plt.xlabel('Jumlah', fontsize=15)"
   ]
  },
  {
   "cell_type": "code",
   "execution_count": 55,
   "metadata": {},
   "outputs": [
    {
     "name": "stdout",
     "output_type": "stream",
     "text": [
      "Lower Limit: -15883.5\n",
      "Lower Limit Extreme: -24108.0\n",
      "Upper Limit: 6048.5\n",
      "Upper Limit Extreme: 14273.0\n",
      "None\n",
      "--------------------------------------------------\n",
      "Lower Limit: 0.042664255183267163 %\n",
      "Lower Limit Extereme: 0.0 %\n",
      "Upper Limit: 0.0 %\n",
      "Upper Limit Extereme: 0.0 %\n",
      "None\n"
     ]
    }
   ],
   "source": [
    "# saya akan cek limit outliers dan berapa persen dari data kita yang melebihi limit tersebut\n",
    "print(limit(clean_concat,'DAYS_REGISTRATION'))\n",
    "print('-'*50)\n",
    "print(percent_outliers(clean_concat,'DAYS_REGISTRATION'))"
   ]
  },
  {
   "cell_type": "markdown",
   "metadata": {},
   "source": [
    "karena kurang dari 0.05 % maka akn saya biarkan outliers ini"
   ]
  },
  {
   "cell_type": "code",
   "execution_count": 56,
   "metadata": {},
   "outputs": [
    {
     "data": {
      "text/plain": [
       "Text(0.5, 0, 'Jumlah')"
      ]
     },
     "execution_count": 56,
     "metadata": {},
     "output_type": "execute_result"
    },
    {
     "data": {
      "image/png": "[encoded data removed]",
      "text/plain": [
       "<Figure size 1152x648 with 1 Axes>"
      ]
     },
     "metadata": {
      "needs_background": "light"
     },
     "output_type": "display_data"
    }
   ],
   "source": [
    "# saya akan cek distribusi kolom INCOME\n",
    "f, ax = plt.subplots(figsize=(16,9))\n",
    "sns.boxplot(x=clean_concat['INST_NUMBER'])\n",
    "plt.title('INST_NUMBER Outliers', fontsize=20)\n",
    "plt.xlabel('Jumlah', fontsize=15)"
   ]
  },
  {
   "cell_type": "code",
   "execution_count": 57,
   "metadata": {},
   "outputs": [
    {
     "data": {
      "text/plain": [
       "(2273566, 28)"
      ]
     },
     "execution_count": 57,
     "metadata": {},
     "output_type": "execute_result"
    }
   ],
   "source": [
    "clean_concat.shape"
   ]
  },
  {
   "cell_type": "markdown",
   "metadata": {},
   "source": [
    "Pada data ini saya tidak akan drop outliers karena bisa saja suatu LN_ID memiliki INST_NUMBER lebih dari 100 apabila data histori ini sangat lama (misal 20 thn dan term payment mereka sedikit (hanya 3 bulan))"
   ]
  },
  {
   "cell_type": "markdown",
   "metadata": {},
   "source": [
    "## 2.3 FEATURE SELECTION"
   ]
  },
  {
   "cell_type": "markdown",
   "metadata": {},
   "source": [
    "Tahap ini saya akan memilih atau mencari feature mana saja yang paling relefan dengan target saya. Saya suda mencoba dengan menggunakan KBest dan Feature Importance dan saya juga tidak memnggunkan corelation coeficient karena target variabelnya dan ada beberapa independen variabel yang kategorikal. Namun setela dimasukkan ke dalam model yang paling bagus adalah Fetaure Importance."
   ]
  },
  {
   "cell_type": "code",
   "execution_count": 58,
   "metadata": {},
   "outputs": [
    {
     "name": "stderr",
     "output_type": "stream",
     "text": [
      "/home/administrator/REJA/credit-risk-modelling/CRM/lib/python3.6/site-packages/xgboost/sklearn.py:1224: UserWarning: The use of label encoder in XGBClassifier is deprecated and will be removed in a future release. To remove this warning, do the following: 1) Pass option use_label_encoder=False when constructing XGBClassifier object; and 2) Encode your labels (y) as integers starting with 0, i.e. 0, 1, 2, ..., [num_class - 1].\n",
      "  warnings.warn(label_encoder_deprecation_msg, UserWarning)\n"
     ]
    },
    {
     "name": "stdout",
     "output_type": "stream",
     "text": [
      "[15:25:43] WARNING: ../src/learner.cc:1115: Starting in XGBoost 1.3.0, the default evaluation metric used with the objective 'binary:logistic' was changed from 'error' to 'logloss'. Explicitly set eval_metric if you'd like to restore the old behavior.\n"
     ]
    },
    {
     "data": {
      "image/png": "[encoded data removed]",
      "text/plain": [
       "<Figure size 1152x648 with 1 Axes>"
      ]
     },
     "metadata": {
      "needs_background": "light"
     },
     "output_type": "display_data"
    }
   ],
   "source": [
    "#karena data memiliki jumlah input yang sangat banyak, maka saya akan menggunakan teknik feature importance pada fetaure selection\n",
    "#kita akan memisahkan dulu independen dan dependen featurenya\n",
    "#data = data.reset_index(drop=True) #reset index dulu biar urut indexnya\n",
    "# membagi data Y (TARGET) dan X (variabel)\n",
    "X = clean_concat.drop(columns={'TARGET'})\n",
    "y = clean_concat['TARGET']\n",
    "\n",
    "#kita coba menggunakan fetaure importance pada model XGboost\n",
    "model = XGBClassifier()\n",
    "model.fit(X,y)\n",
    "\n",
    "#Kita visualisasi feature yang penting-penting\n",
    "feat_importances = pd.Series(model.feature_importances_, index=X.columns)\n",
    "f, ax = plt.subplots(figsize=(16,9))\n",
    "feat_importances.nlargest(10).plot(kind='barh')\n",
    "plt.title('Feature Importance', fontsize=20)\n",
    "plt.ylabel('Features', fontsize=15)\n",
    "plt.xlabel('Score', fontsize=15)\n",
    "plt.show()"
   ]
  },
  {
   "cell_type": "markdown",
   "metadata": {},
   "source": [
    "Bisa dilihat bahwa grafik di atas menunjukan 3 variabel yang memiliki pengaruh terbesar pada target :\n",
    "1. EXT_SCORE_2 = merupakan score yang diberikan terhadap loaners dari data eksternal, score ini sepertinya merujuk pada credit score mereka, setelah dilakukan analisa \n",
    "    -   rata2 EXT_SCORE_2 untuk loaners dengan TARGET 1 lebih kecil dari pada score untuk loaners dengan TARGET 0\n",
    "    -   semakin bagus history installment pada loaners, maka seharusnya EXT_SCORE_2 akan semakin bagus\n",
    "2. HOUSING_TYPE = merupakan kondisi kepemilikan rumah dari loaners, tentu saja ini menjadi variabel penting, selain income kondisi kepemilikan rumah lebih menentukan kemapanan dan kemandirian finansial seseorang, contoh seorang dengan income tinggi apabila belum mempunyai rumah maka mereka akan cenderung belum mapan karena harus membeli / mencicil rumah ke depannya. \n",
    "3. EDUCATION = merupakan tingkat pendidikan tertinggi dari client/loaners. sudah sewajarnya variabel ini menjadi variabel terpenting karena, pada income atau pendapatan seseorang berbanding lurus dengan pendidikan atau ilmu mereka, semakin tinggi ilmu atau pendidikan nya pendapatan atau ekpektasi hidup mereka pasti lebih besaar. \n"
   ]
  },
  {
   "cell_type": "markdown",
   "metadata": {},
   "source": [
    "Karena kolom GENDER_M dan AMT_INST tidak memiliki feture importance maka akan kita drop"
   ]
  },
  {
   "cell_type": "code",
   "execution_count": 59,
   "metadata": {},
   "outputs": [
    {
     "data": {
      "text/html": [
       "<div>\n",
       "<style scoped>\n",
       "    .dataframe tbody tr th:only-of-type {\n",
       "        vertical-align: middle;\n",
       "    }\n",
       "\n",
       "    .dataframe tbody tr th {\n",
       "        vertical-align: top;\n",
       "    }\n",
       "\n",
       "    .dataframe thead th {\n",
       "        text-align: right;\n",
       "    }\n",
       "</style>\n",
       "<table border=\"1\" class=\"dataframe\">\n",
       "  <thead>\n",
       "    <tr style=\"text-align: right;\">\n",
       "      <th></th>\n",
       "      <th>EXT_SCORE_2</th>\n",
       "      <th>EDUCATION</th>\n",
       "      <th>PRICE</th>\n",
       "      <th>DAYS_WORK</th>\n",
       "      <th>DAYS_AGE</th>\n",
       "      <th>GENDER_F</th>\n",
       "      <th>DAYS_ID_CHANGE</th>\n",
       "      <th>ANNUITY</th>\n",
       "      <th>CONTRACT_TYPE</th>\n",
       "      <th>DAYS_REGISTRATION</th>\n",
       "    </tr>\n",
       "  </thead>\n",
       "  <tbody>\n",
       "    <tr>\n",
       "      <th>0</th>\n",
       "      <td>0.608276</td>\n",
       "      <td>4</td>\n",
       "      <td>202500.0</td>\n",
       "      <td>-921</td>\n",
       "      <td>-11539</td>\n",
       "      <td>1</td>\n",
       "      <td>-2757</td>\n",
       "      <td>10125.0</td>\n",
       "      <td>1</td>\n",
       "      <td>-119</td>\n",
       "    </tr>\n",
       "    <tr>\n",
       "      <th>1</th>\n",
       "      <td>0.608276</td>\n",
       "      <td>4</td>\n",
       "      <td>202500.0</td>\n",
       "      <td>-921</td>\n",
       "      <td>-11539</td>\n",
       "      <td>1</td>\n",
       "      <td>-2757</td>\n",
       "      <td>10125.0</td>\n",
       "      <td>1</td>\n",
       "      <td>-119</td>\n",
       "    </tr>\n",
       "    <tr>\n",
       "      <th>2</th>\n",
       "      <td>0.608276</td>\n",
       "      <td>4</td>\n",
       "      <td>202500.0</td>\n",
       "      <td>-921</td>\n",
       "      <td>-11539</td>\n",
       "      <td>1</td>\n",
       "      <td>-2757</td>\n",
       "      <td>10125.0</td>\n",
       "      <td>1</td>\n",
       "      <td>-119</td>\n",
       "    </tr>\n",
       "    <tr>\n",
       "      <th>3</th>\n",
       "      <td>0.608276</td>\n",
       "      <td>4</td>\n",
       "      <td>202500.0</td>\n",
       "      <td>-921</td>\n",
       "      <td>-11539</td>\n",
       "      <td>1</td>\n",
       "      <td>-2757</td>\n",
       "      <td>10125.0</td>\n",
       "      <td>1</td>\n",
       "      <td>-119</td>\n",
       "    </tr>\n",
       "    <tr>\n",
       "      <th>4</th>\n",
       "      <td>0.684298</td>\n",
       "      <td>4</td>\n",
       "      <td>873000.0</td>\n",
       "      <td>-4482</td>\n",
       "      <td>-15743</td>\n",
       "      <td>1</td>\n",
       "      <td>-2455</td>\n",
       "      <td>49869.0</td>\n",
       "      <td>0</td>\n",
       "      <td>-1797</td>\n",
       "    </tr>\n",
       "    <tr>\n",
       "      <th>...</th>\n",
       "      <td>...</td>\n",
       "      <td>...</td>\n",
       "      <td>...</td>\n",
       "      <td>...</td>\n",
       "      <td>...</td>\n",
       "      <td>...</td>\n",
       "      <td>...</td>\n",
       "      <td>...</td>\n",
       "      <td>...</td>\n",
       "      <td>...</td>\n",
       "    </tr>\n",
       "    <tr>\n",
       "      <th>562487</th>\n",
       "      <td>0.381569</td>\n",
       "      <td>4</td>\n",
       "      <td>225000.0</td>\n",
       "      <td>-387</td>\n",
       "      <td>-12782</td>\n",
       "      <td>1</td>\n",
       "      <td>-4823</td>\n",
       "      <td>20299.5</td>\n",
       "      <td>0</td>\n",
       "      <td>-1261</td>\n",
       "    </tr>\n",
       "    <tr>\n",
       "      <th>562488</th>\n",
       "      <td>0.381569</td>\n",
       "      <td>4</td>\n",
       "      <td>225000.0</td>\n",
       "      <td>-387</td>\n",
       "      <td>-12782</td>\n",
       "      <td>1</td>\n",
       "      <td>-4823</td>\n",
       "      <td>20299.5</td>\n",
       "      <td>0</td>\n",
       "      <td>-1261</td>\n",
       "    </tr>\n",
       "    <tr>\n",
       "      <th>562489</th>\n",
       "      <td>0.381569</td>\n",
       "      <td>4</td>\n",
       "      <td>225000.0</td>\n",
       "      <td>-387</td>\n",
       "      <td>-12782</td>\n",
       "      <td>1</td>\n",
       "      <td>-4823</td>\n",
       "      <td>20299.5</td>\n",
       "      <td>0</td>\n",
       "      <td>-1261</td>\n",
       "    </tr>\n",
       "    <tr>\n",
       "      <th>562490</th>\n",
       "      <td>0.381569</td>\n",
       "      <td>4</td>\n",
       "      <td>225000.0</td>\n",
       "      <td>-387</td>\n",
       "      <td>-12782</td>\n",
       "      <td>1</td>\n",
       "      <td>-4823</td>\n",
       "      <td>20299.5</td>\n",
       "      <td>0</td>\n",
       "      <td>-1261</td>\n",
       "    </tr>\n",
       "    <tr>\n",
       "      <th>562491</th>\n",
       "      <td>0.381569</td>\n",
       "      <td>4</td>\n",
       "      <td>225000.0</td>\n",
       "      <td>-387</td>\n",
       "      <td>-12782</td>\n",
       "      <td>1</td>\n",
       "      <td>-4823</td>\n",
       "      <td>20299.5</td>\n",
       "      <td>0</td>\n",
       "      <td>-1261</td>\n",
       "    </tr>\n",
       "  </tbody>\n",
       "</table>\n",
       "<p>2273566 rows × 10 columns</p>\n",
       "</div>"
      ],
      "text/plain": [
       "        EXT_SCORE_2  EDUCATION     PRICE  DAYS_WORK  DAYS_AGE  GENDER_F  \\\n",
       "0          0.608276          4  202500.0       -921    -11539         1   \n",
       "1          0.608276          4  202500.0       -921    -11539         1   \n",
       "2          0.608276          4  202500.0       -921    -11539         1   \n",
       "3          0.608276          4  202500.0       -921    -11539         1   \n",
       "4          0.684298          4  873000.0      -4482    -15743         1   \n",
       "...             ...        ...       ...        ...       ...       ...   \n",
       "562487     0.381569          4  225000.0       -387    -12782         1   \n",
       "562488     0.381569          4  225000.0       -387    -12782         1   \n",
       "562489     0.381569          4  225000.0       -387    -12782         1   \n",
       "562490     0.381569          4  225000.0       -387    -12782         1   \n",
       "562491     0.381569          4  225000.0       -387    -12782         1   \n",
       "\n",
       "        DAYS_ID_CHANGE  ANNUITY  CONTRACT_TYPE  DAYS_REGISTRATION  \n",
       "0                -2757  10125.0              1               -119  \n",
       "1                -2757  10125.0              1               -119  \n",
       "2                -2757  10125.0              1               -119  \n",
       "3                -2757  10125.0              1               -119  \n",
       "4                -2455  49869.0              0              -1797  \n",
       "...                ...      ...            ...                ...  \n",
       "562487           -4823  20299.5              0              -1261  \n",
       "562488           -4823  20299.5              0              -1261  \n",
       "562489           -4823  20299.5              0              -1261  \n",
       "562490           -4823  20299.5              0              -1261  \n",
       "562491           -4823  20299.5              0              -1261  \n",
       "\n",
       "[2273566 rows x 10 columns]"
      ]
     },
     "execution_count": 59,
     "metadata": {},
     "output_type": "execute_result"
    }
   ],
   "source": [
    "X_select = clean_concat[['EXT_SCORE_2','EDUCATION','PRICE','DAYS_WORK','DAYS_AGE','GENDER_F','DAYS_ID_CHANGE','ANNUITY','CONTRACT_TYPE','DAYS_REGISTRATION']]\n",
    "X_select"
   ]
  },
  {
   "cell_type": "code",
   "execution_count": 60,
   "metadata": {},
   "outputs": [],
   "source": [
    "# clean_concat = clean_concat.drop(columns={'GENDER_M','AMT_INST'})\n",
    "# clean_concat.shape"
   ]
  },
  {
   "cell_type": "markdown",
   "metadata": {},
   "source": [
    "## 2.4 IMBALANCE DATASET"
   ]
  },
  {
   "cell_type": "markdown",
   "metadata": {},
   "source": [
    "Karena ini adalah problem klasifikasi dan target variabel pada dataset ini memiliki perbandingan yang sangat jauh kerena persentase yang gagal bayar pasti lebih sedikit dibandingkan dengan yang berhasil, sehingga kita perlu menangani hal ini agar ketika nanti masuk ke dalam model tidak teradi bias karena terjadinya perbedaan ration apda target variabel."
   ]
  },
  {
   "cell_type": "code",
   "execution_count": 61,
   "metadata": {},
   "outputs": [
    {
     "name": "stdout",
     "output_type": "stream",
     "text": [
      "0    2094837\n",
      "1     178729\n",
      "Name: TARGET, dtype: int64\n",
      "--------------------------------------------------\n",
      "TARGET (0): 92.13882508798953 %\n",
      "TARGET (1): 7.861174912010471 %\n"
     ]
    }
   ],
   "source": [
    "#Kita cek ratio target variabel\n",
    "print(clean_concat.TARGET.value_counts())\n",
    "print('-'*50)\n",
    "print('TARGET (0): {} %'.format(clean_concat[(clean_concat['TARGET'] == 0)].shape[0]/clean_concat.shape[0]*100))\n",
    "print('TARGET (1): {} %'.format(clean_concat[(clean_concat['TARGET'] == 1)].shape[0]/clean_concat.shape[0]*100))"
   ]
  },
  {
   "cell_type": "code",
   "execution_count": 62,
   "metadata": {},
   "outputs": [
    {
     "data": {
      "text/plain": [
       "<matplotlib.axes._subplots.AxesSubplot at 0x7fe8c3ca0b38>"
      ]
     },
     "execution_count": 62,
     "metadata": {},
     "output_type": "execute_result"
    },
    {
     "data": {
      "image/png": "[encoded data removed]",
      "text/plain": [
       "<Figure size 432x288 with 1 Axes>"
      ]
     },
     "metadata": {
      "needs_background": "light"
     },
     "output_type": "display_data"
    }
   ],
   "source": [
    "#Visualisasi Imbalance Dataset Sebelum Dibenahi\n",
    "sns.countplot(\"TARGET\",data=clean_concat)"
   ]
  },
  {
   "cell_type": "markdown",
   "metadata": {},
   "source": [
    "bisa dilihat bahwa target variabel kita imbalance atau tidak seimbang, 0 (other case): 92.14% dan 1(client with late payment more than X days): 7.86% sehingga kita akan menangani masalah ini, karena jika tidak model akan lebih cenderung memprediksi 0 karena lebih banyak dalam jumlah"
   ]
  },
  {
   "cell_type": "markdown",
   "metadata": {},
   "source": [
    "split train data and test data, menjadi 0.75 dan 0.25 dari total data secara berurutan"
   ]
  },
  {
   "cell_type": "code",
   "execution_count": 63,
   "metadata": {},
   "outputs": [],
   "source": [
    "# membagi data Y (TARGET) dan X (variabel)\n",
    "X = X_select\n",
    "y = clean_concat['TARGET']\n",
    "# scaled data X agar normalization range dari data - data tiap kolom\n",
    "S = StandardScaler()\n",
    "X_Scaled = S.fit_transform(X)\n",
    "# split train and test dengan data X_Scaled dan y dengan stratify = y karena data target kita (y) tidak seimbang atau imbalance\n",
    "X_train, X_test, y_train, y_test = train_test_split(X_Scaled, y, test_size=0.25, random_state=3, stratify=y)"
   ]
  },
  {
   "cell_type": "code",
   "execution_count": 64,
   "metadata": {},
   "outputs": [
    {
     "data": {
      "text/plain": [
       "(2273566, 10)"
      ]
     },
     "execution_count": 64,
     "metadata": {},
     "output_type": "execute_result"
    }
   ],
   "source": [
    "X.shape"
   ]
  },
  {
   "cell_type": "code",
   "execution_count": 65,
   "metadata": {},
   "outputs": [
    {
     "data": {
      "text/plain": [
       "(2273566,)"
      ]
     },
     "execution_count": 65,
     "metadata": {},
     "output_type": "execute_result"
    }
   ],
   "source": [
    "y.shape"
   ]
  },
  {
   "cell_type": "markdown",
   "metadata": {},
   "source": [
    "# 3. MODELLING"
   ]
  },
  {
   "cell_type": "markdown",
   "metadata": {},
   "source": [
    "Setelah semua data sudah bersih dan siap dimasukkan ke dalam model, maka ini saatnya kita membuat model dan mencari model yang paling optimal. Disini saya langsung evaluasii setela membuat model, dilatih dan dites agar memudahkan melihat model mana yang paling optimal."
   ]
  },
  {
   "cell_type": "markdown",
   "metadata": {},
   "source": [
    "pada Model ini saya menggunakan 3 Evaluasi Metrik yaitu :\n",
    "1. Confusion Matrix = Confusion Matrix adalah teknik evaluasi untuk mengukur performance dari suatu klasifikasi model/algoritma. Karena Target variabel kita mempunyai 2 class (0 dan 1) dan sudah dilakukan balancing maka confusion matrix merupakan teknik evaluasi yang tepat. ketika membuat prediksi pada binari model atau 2-class klasifikasi model , terdapat 2 Error yang muncul pada prediksi yaitu False Positive (ketika memprediksi suatu Target 1 namun aktual nya Target 0) dan False Negative (ketika memprediksi suatu Target 0 namun aktual nya Target 1), dan Confusion Matrix dapat merepresentasikan Error ini dengan sangat baik.\n",
    "\n",
    "2. ROC Curve = ROC curve merepresentasikan atau memplot trade-off antara false positive rate versus true positive rate. \n",
    "    - True Positive Rate / Sensitivity = True Positive / (True Positive + False Negative)\n",
    "    - False Positive Rate = False Positive / (False Positive + False Positive).\n",
    "\n",
    "    ROC Curve juga sangat efektik karena : \n",
    "    - AUC (Area Under Curve) dapat merepresentasikan skill dari model, semakin besar AUC, semakin bagus model.\n",
    "\n",
    "3. Precision and Recall Curve = Precision and Recall Curve merepresentasikan atau memplot tradfe-off antara True Positive Rate dengan Positive Predicted Value\n",
    "    - Precision = True Positive / (True Positive + False Positive)\n",
    "    - Recall = True Positive / (True Positive + False Negative)\n",
    "    \n",
    "    Precision and Recall sangat efektif ketika memiliki imbalanced dataset seperti dataset ini. "
   ]
  },
  {
   "cell_type": "code",
   "execution_count": 66,
   "metadata": {},
   "outputs": [],
   "source": [
    "#Membuat fungsi yang nanti sekalin bisa training dan tes kemudian dievalusi\n",
    "def model_eval(algo,X_train,y_train,X_test,y_test):\n",
    "    algo.fit(X_train,y_train)\n",
    "    y_train_ypred = algo.predict(X_train)\n",
    "    y_train_prob = algo.predict_proba(X_train)[:,-1]\n",
    "\n",
    "    #TEST\n",
    "\n",
    "    y_test_ypred = algo.predict(X_test)\n",
    "    y_test_prob = algo.predict_proba(X_test)[:,-1]\n",
    "    y_probas = algo.predict_proba(X_test)\n",
    "    \n",
    "    #Confussion Matrix\n",
    "    plot_confusion_matrix(algo, X_test, y_test)\n",
    "    plt.show() \n",
    "    print('='*100)\n",
    "    print('Classification Report: \\n', classification_report(y_test, y_test_ypred, digits=3))\n",
    "    print('='*100)\n",
    "    \n",
    "    #ROC Curve\n",
    "    #fpr,tpr,thresholds = roc_curve(y_test,y_test_prob)\n",
    "    skplt.metrics.plot_roc(y_test, y_probas)\n",
    "    \n",
    "    #PR Curve\n",
    "    skplt.metrics.plot_precision_recall(y_test, y_probas)\n",
    "    plt.show()"
   ]
  },
  {
   "cell_type": "code",
   "execution_count": 67,
   "metadata": {},
   "outputs": [
    {
     "data": {
      "image/png": "[encoded data removed]",
      "text/plain": [
       "<Figure size 432x288 with 2 Axes>"
      ]
     },
     "metadata": {
      "needs_background": "light"
     },
     "output_type": "display_data"
    },
    {
     "name": "stdout",
     "output_type": "stream",
     "text": [
      "====================================================================================================\n"
     ]
    },
    {
     "name": "stderr",
     "output_type": "stream",
     "text": [
      "/home/administrator/REJA/credit-risk-modelling/CRM/lib/python3.6/site-packages/sklearn/metrics/_classification.py:1248: UndefinedMetricWarning: Precision and F-score are ill-defined and being set to 0.0 in labels with no predicted samples. Use `zero_division` parameter to control this behavior.\n",
      "  _warn_prf(average, modifier, msg_start, len(result))\n",
      "/home/administrator/REJA/credit-risk-modelling/CRM/lib/python3.6/site-packages/sklearn/metrics/_classification.py:1248: UndefinedMetricWarning: Precision and F-score are ill-defined and being set to 0.0 in labels with no predicted samples. Use `zero_division` parameter to control this behavior.\n",
      "  _warn_prf(average, modifier, msg_start, len(result))\n",
      "/home/administrator/REJA/credit-risk-modelling/CRM/lib/python3.6/site-packages/sklearn/metrics/_classification.py:1248: UndefinedMetricWarning: Precision and F-score are ill-defined and being set to 0.0 in labels with no predicted samples. Use `zero_division` parameter to control this behavior.\n",
      "  _warn_prf(average, modifier, msg_start, len(result))\n"
     ]
    },
    {
     "name": "stdout",
     "output_type": "stream",
     "text": [
      "Classification Report: \n",
      "               precision    recall  f1-score   support\n",
      "\n",
      "           0      0.921     1.000     0.959    523710\n",
      "           1      0.000     0.000     0.000     44682\n",
      "\n",
      "    accuracy                          0.921    568392\n",
      "   macro avg      0.461     0.500     0.480    568392\n",
      "weighted avg      0.849     0.921     0.884    568392\n",
      "\n",
      "====================================================================================================\n"
     ]
    },
    {
     "data": {
      "image/png": "[encoded data removed]",
      "text/plain": [
       "<Figure size 432x288 with 1 Axes>"
      ]
     },
     "metadata": {
      "needs_background": "light"
     },
     "output_type": "display_data"
    },
    {
     "data": {
      "image/png": "[encoded data removed]",
      "text/plain": [
       "<Figure size 432x288 with 1 Axes>"
      ]
     },
     "metadata": {
      "needs_background": "light"
     },
     "output_type": "display_data"
    }
   ],
   "source": [
    "#Using Logistic Regression\n",
    "lr = LogisticRegression()\n",
    "model_eval(lr,X_train,y_train,X_test,y_test)"
   ]
  },
  {
   "cell_type": "code",
   "execution_count": 68,
   "metadata": {},
   "outputs": [
    {
     "data": {
      "image/png": "[encoded data removed]",
      "text/plain": [
       "<Figure size 432x288 with 2 Axes>"
      ]
     },
     "metadata": {
      "needs_background": "light"
     },
     "output_type": "display_data"
    },
    {
     "name": "stdout",
     "output_type": "stream",
     "text": [
      "====================================================================================================\n",
      "Classification Report: \n",
      "               precision    recall  f1-score   support\n",
      "\n",
      "           0      0.923     0.993     0.957    523710\n",
      "           1      0.291     0.035     0.063     44682\n",
      "\n",
      "    accuracy                          0.917    568392\n",
      "   macro avg      0.607     0.514     0.510    568392\n",
      "weighted avg      0.874     0.917     0.887    568392\n",
      "\n",
      "====================================================================================================\n"
     ]
    },
    {
     "data": {
      "image/png": "[encoded data removed]",
      "text/plain": [
       "<Figure size 432x288 with 1 Axes>"
      ]
     },
     "metadata": {
      "needs_background": "light"
     },
     "output_type": "display_data"
    },
    {
     "data": {
      "image/png": "[encoded data removed]",
      "text/plain": [
       "<Figure size 432x288 with 1 Axes>"
      ]
     },
     "metadata": {
      "needs_background": "light"
     },
     "output_type": "display_data"
    }
   ],
   "source": [
    "#sekarang kita coba menggunakan Naive Bayes\n",
    "nb = GaussianNB()\n",
    "model_eval(nb,X_train,y_train,X_test,y_test)"
   ]
  },
  {
   "cell_type": "code",
   "execution_count": 69,
   "metadata": {},
   "outputs": [],
   "source": [
    "#Sekarang kita coba menggunakan KNN\n",
    "# knn = KNeighborsClassifier()\n",
    "# model_eval(knn,X_train,y_train,X_test,y_test)"
   ]
  },
  {
   "cell_type": "code",
   "execution_count": 70,
   "metadata": {},
   "outputs": [],
   "source": [
    "#Sekarang kita coba Random Forest\n",
    "# rf = RandomForestClassifier()\n",
    "# model_eval(rf,X_train,y_train,X_test,y_test)"
   ]
  },
  {
   "cell_type": "code",
   "execution_count": 71,
   "metadata": {},
   "outputs": [
    {
     "name": "stderr",
     "output_type": "stream",
     "text": [
      "/home/administrator/REJA/credit-risk-modelling/CRM/lib/python3.6/site-packages/xgboost/sklearn.py:1224: UserWarning: The use of label encoder in XGBClassifier is deprecated and will be removed in a future release. To remove this warning, do the following: 1) Pass option use_label_encoder=False when constructing XGBClassifier object; and 2) Encode your labels (y) as integers starting with 0, i.e. 0, 1, 2, ..., [num_class - 1].\n",
      "  warnings.warn(label_encoder_deprecation_msg, UserWarning)\n"
     ]
    },
    {
     "name": "stdout",
     "output_type": "stream",
     "text": [
      "[15:27:36] WARNING: ../src/learner.cc:1115: Starting in XGBoost 1.3.0, the default evaluation metric used with the objective 'binary:logistic' was changed from 'error' to 'logloss'. Explicitly set eval_metric if you'd like to restore the old behavior.\n"
     ]
    },
    {
     "data": {
      "image/png": "[encoded data removed]",
      "text/plain": [
       "<Figure size 432x288 with 2 Axes>"
      ]
     },
     "metadata": {
      "needs_background": "light"
     },
     "output_type": "display_data"
    },
    {
     "name": "stdout",
     "output_type": "stream",
     "text": [
      "====================================================================================================\n",
      "Classification Report: \n",
      "               precision    recall  f1-score   support\n",
      "\n",
      "           0      0.952     1.000     0.975    523710\n",
      "           1      0.988     0.404     0.573     44682\n",
      "\n",
      "    accuracy                          0.953    568392\n",
      "   macro avg      0.970     0.702     0.774    568392\n",
      "weighted avg      0.954     0.953     0.943    568392\n",
      "\n",
      "====================================================================================================\n"
     ]
    },
    {
     "data": {
      "image/png": "[encoded data removed]",
      "text/plain": [
       "<Figure size 432x288 with 1 Axes>"
      ]
     },
     "metadata": {
      "needs_background": "light"
     },
     "output_type": "display_data"
    },
    {
     "data": {
      "image/png": "[encoded data removed]",
      "text/plain": [
       "<Figure size 432x288 with 1 Axes>"
      ]
     },
     "metadata": {
      "needs_background": "light"
     },
     "output_type": "display_data"
    }
   ],
   "source": [
    "#Sekarang kita coba menggunakan XGBoost\n",
    "xgb = XGBClassifier()\n",
    "model_eval(xgb,X_train,y_train,X_test,y_test)"
   ]
  },
  {
   "cell_type": "markdown",
   "metadata": {},
   "source": [
    "Dapat dilihat pada model - model di atas yang terbaik adalah XGBoost karena RandomForrest overfit pada data kita, maka saya akan memilih XGBoost. Namun bisa dilihat pada Performance metrix bahwa Recall nya sangat kecil, maka saya akan menggunakan scoring F-1 score untuk keduanya optimal."
   ]
  },
  {
   "cell_type": "markdown",
   "metadata": {},
   "source": [
    "# 4. MODEL TUNING"
   ]
  },
  {
   "cell_type": "code",
   "execution_count": 80,
   "metadata": {},
   "outputs": [],
   "source": [
    "#kita membuat function opmitasi, disinia saya menggunakan GridSearchCV\n",
    "def model_opt(clf, params,X_train,y_train,X_test,y_test ):\n",
    "    # Load GridSearchCV\n",
    "    search = RandomizedSearchCV(estimator=clf,\n",
    "                          param_distributions=params,\n",
    "                          scoring = 'f1',\n",
    "                          n_jobs = -1,\n",
    "                          cv = 3,\n",
    "                          verbose=True)\n",
    "\n",
    "    # Train search object\n",
    "    search.fit(X_train, y_train)\n",
    "    \n",
    "    best = search.best_estimator_\n",
    "    best_model = best.fit(X_train, y_train)\n",
    "    \n",
    "    #### TEST\n",
    "\n",
    "    y_test_ypred = best_model.predict(X_test)\n",
    "    y_test_prob = best_model.predict_proba(X_test)[:,-1]\n",
    "    y_probas = best_model.predict_proba(X_test)\n",
    "    \n",
    "    print('Best parameters: \\n',search.best_params_)\n",
    "    print('='*70)\n",
    "    #Confussion Matrix\n",
    "    plot_confusion_matrix(clf, X_test, y_test)\n",
    "    plt.show() \n",
    "    print('='*100)\n",
    "    print('Classification Report: \\n', classification_report(y_test, y_test_ypred, digits=3))\n",
    "    print('='*100)\n",
    "    \n",
    "    #ROC Curve\n",
    "    #fpr,tpr,thresholds = roc_curve(y_test,y_test_prob)\n",
    "    skplt.metrics.plot_roc(y_test, y_probas)\n",
    "    \n",
    "    #PR Curve\n",
    "    skplt.metrics.plot_precision_recall(y_test, y_probas, figsize=(16,9))\n",
    "    plt.show()"
   ]
  },
  {
   "cell_type": "code",
   "execution_count": 81,
   "metadata": {},
   "outputs": [
    {
     "name": "stdout",
     "output_type": "stream",
     "text": [
      "Fitting 3 folds for each of 10 candidates, totalling 30 fits\n"
     ]
    },
    {
     "name": "stderr",
     "output_type": "stream",
     "text": [
      "/home/administrator/REJA/credit-risk-modelling/CRM/lib/python3.6/site-packages/sklearn/model_selection/_search.py:925: UserWarning: One or more of the test scores are non-finite: [0.62719233 0.         0.0311504  0.64258478 0.85437314 0.18557363\n",
      " 0.11722662 0.01792023        nan 0.44930887]\n",
      "  category=UserWarning\n",
      "/home/administrator/REJA/credit-risk-modelling/CRM/lib/python3.6/site-packages/xgboost/sklearn.py:1224: UserWarning: The use of label encoder in XGBClassifier is deprecated and will be removed in a future release. To remove this warning, do the following: 1) Pass option use_label_encoder=False when constructing XGBClassifier object; and 2) Encode your labels (y) as integers starting with 0, i.e. 0, 1, 2, ..., [num_class - 1].\n",
      "  warnings.warn(label_encoder_deprecation_msg, UserWarning)\n"
     ]
    },
    {
     "name": "stdout",
     "output_type": "stream",
     "text": [
      "[16:16:41] WARNING: ../src/learner.cc:1115: Starting in XGBoost 1.3.0, the default evaluation metric used with the objective 'binary:logistic' was changed from 'error' to 'logloss'. Explicitly set eval_metric if you'd like to restore the old behavior.\n",
      "[16:17:17] WARNING: ../src/learner.cc:1115: Starting in XGBoost 1.3.0, the default evaluation metric used with the objective 'binary:logistic' was changed from 'error' to 'logloss'. Explicitly set eval_metric if you'd like to restore the old behavior.\n",
      "Best parameters: \n",
      " {'min_child_weight': 1, 'max_depth': 8, 'learning_rate': 0.5, 'gamma': 0.2, 'colsample_bytree': 0.3}\n",
      "======================================================================\n"
     ]
    },
    {
     "data": {
      "image/png": "[encoded data removed]",
      "text/plain": [
       "<Figure size 432x288 with 2 Axes>"
      ]
     },
     "metadata": {
      "needs_background": "light"
     },
     "output_type": "display_data"
    },
    {
     "name": "stdout",
     "output_type": "stream",
     "text": [
      "====================================================================================================\n",
      "Classification Report: \n",
      "               precision    recall  f1-score   support\n",
      "\n",
      "           0      0.981     0.998     0.990    523710\n",
      "           1      0.977     0.773     0.863     44682\n",
      "\n",
      "    accuracy                          0.981    568392\n",
      "   macro avg      0.979     0.886     0.926    568392\n",
      "weighted avg      0.981     0.981     0.980    568392\n",
      "\n",
      "====================================================================================================\n"
     ]
    },
    {
     "data": {
      "image/png": "[encoded data removed]",
      "text/plain": [
       "<Figure size 432x288 with 1 Axes>"
      ]
     },
     "metadata": {
      "needs_background": "light"
     },
     "output_type": "display_data"
    },
    {
     "data": {
      "image/png": "[encoded data removed]",
      "text/plain": [
       "<Figure size 1152x648 with 1 Axes>"
      ]
     },
     "metadata": {
      "needs_background": "light"
     },
     "output_type": "display_data"
    }
   ],
   "source": [
    "params ={\"learning_rate\"    : [0.05, 0.10, 0.15, 0.3, 0.5] ,\n",
    "         \"max_depth\"        : [ 3, 4, 5, 6, 7, 8],\n",
    "         \"min_child_weight\" : [ 1, 3, 5, 7, 9, 15 ],\n",
    "         \"gamma\"            : [ 0.0, 0.1, 0.2, 0.5 ],\n",
    "         \"colsample_bytree\" : [ 0.3, 0.4, 0.5,1,1.5] }\n",
    "\n",
    "model_opt(xgb, params, X_train, y_train, X_test, y_test)"
   ]
  },
  {
   "cell_type": "markdown",
   "metadata": {},
   "source": [
    "Setelah dilakukan RandomizedSearchCV maka di dapat parameter terbaik : \n",
    "\n",
    "{'min_child_weight': 7, 'max_depth': 6, 'learning_rate': 0.15, 'gamma': 0.1, 'colsample_bytree': 0.5}"
   ]
  },
  {
   "cell_type": "code",
   "execution_count": 82,
   "metadata": {},
   "outputs": [
    {
     "data": {
      "text/plain": [
       "{'objective': 'binary:logistic',\n",
       " 'base_score': 0.5,\n",
       " 'booster': 'gbtree',\n",
       " 'colsample_bylevel': 1,\n",
       " 'colsample_bynode': 1,\n",
       " 'colsample_bytree': 1,\n",
       " 'gamma': 0,\n",
       " 'gpu_id': -1,\n",
       " 'interaction_constraints': '',\n",
       " 'learning_rate': 0.300000012,\n",
       " 'max_delta_step': 0,\n",
       " 'max_depth': 6,\n",
       " 'min_child_weight': 1,\n",
       " 'monotone_constraints': '()',\n",
       " 'n_jobs': 8,\n",
       " 'num_parallel_tree': 1,\n",
       " 'predictor': 'auto',\n",
       " 'random_state': 0,\n",
       " 'reg_alpha': 0,\n",
       " 'reg_lambda': 1,\n",
       " 'scale_pos_weight': 1,\n",
       " 'subsample': 1,\n",
       " 'tree_method': 'exact',\n",
       " 'validate_parameters': 1,\n",
       " 'verbosity': None}"
      ]
     },
     "execution_count": 82,
     "metadata": {},
     "output_type": "execute_result"
    }
   ],
   "source": [
    "#sekarnag kita coba pada model setelah ditunning\n",
    "XGBClassifier.get_xgb_params(xgb)\n",
    "\n",
    "#model_eval(xgb_tune,X_train,y_train,X_test,y_test)"
   ]
  },
  {
   "cell_type": "code",
   "execution_count": 83,
   "metadata": {},
   "outputs": [
    {
     "name": "stderr",
     "output_type": "stream",
     "text": [
      "/home/administrator/REJA/credit-risk-modelling/CRM/lib/python3.6/site-packages/xgboost/sklearn.py:1224: UserWarning: The use of label encoder in XGBClassifier is deprecated and will be removed in a future release. To remove this warning, do the following: 1) Pass option use_label_encoder=False when constructing XGBClassifier object; and 2) Encode your labels (y) as integers starting with 0, i.e. 0, 1, 2, ..., [num_class - 1].\n",
      "  warnings.warn(label_encoder_deprecation_msg, UserWarning)\n"
     ]
    },
    {
     "name": "stdout",
     "output_type": "stream",
     "text": [
      "[16:20:41] WARNING: ../src/learner.cc:223: No visible GPU is found, setting `gpu_id` to -1\n",
      "[16:20:42] WARNING: ../src/learner.cc:1115: Starting in XGBoost 1.3.0, the default evaluation metric used with the objective 'binary:logistic' was changed from 'error' to 'logloss'. Explicitly set eval_metric if you'd like to restore the old behavior.\n"
     ]
    },
    {
     "data": {
      "image/png": "[encoded data removed]",
      "text/plain": [
       "<Figure size 432x288 with 2 Axes>"
      ]
     },
     "metadata": {
      "needs_background": "light"
     },
     "output_type": "display_data"
    },
    {
     "name": "stdout",
     "output_type": "stream",
     "text": [
      "====================================================================================================\n",
      "Classification Report: \n",
      "               precision    recall  f1-score   support\n",
      "\n",
      "           0      0.981     0.998     0.990    523710\n",
      "           1      0.977     0.773     0.863     44682\n",
      "\n",
      "    accuracy                          0.981    568392\n",
      "   macro avg      0.979     0.886     0.926    568392\n",
      "weighted avg      0.981     0.981     0.980    568392\n",
      "\n",
      "====================================================================================================\n"
     ]
    },
    {
     "data": {
      "image/png": "[encoded data removed]",
      "text/plain": [
       "<Figure size 432x288 with 1 Axes>"
      ]
     },
     "metadata": {
      "needs_background": "light"
     },
     "output_type": "display_data"
    },
    {
     "data": {
      "image/png": "[encoded data removed]",
      "text/plain": [
       "<Figure size 432x288 with 1 Axes>"
      ]
     },
     "metadata": {
      "needs_background": "light"
     },
     "output_type": "display_data"
    }
   ],
   "source": [
    "xgb_tune = XGBClassifier(base_score=0.5, booster='gbtree', colsample_bylevel=1,\n",
    "                        colsample_bynode=1, colsample_bytree=0.3, gamma=0.2,\n",
    "                        learning_rate=0.5, max_delta_step=0, max_depth=8,\n",
    "                        min_child_weight=1, n_estimators=100, n_jobs=8,gpu_id=0,\n",
    "                        objective='binary:logistic', random_state=0,\n",
    "                        reg_alpha=0, reg_lambda=1, scale_pos_weight=1,\n",
    "                        subsample=1, verbosity=1)\n",
    "model_eval(xgb_tune, X_train, y_train, X_test, y_test)"
   ]
  },
  {
   "cell_type": "markdown",
   "metadata": {},
   "source": [
    "Ada peningkatan pada Recall average yang sebelumnya 70 % menjadi 88.6 %, antara Recall dan Precision akan ada trade-off, oleh karena itu pada scoring di CV saya menggunakan metric f1-score untuk mengharmonikan keduanya, sehingga ada penikatan di F1-score menjadi 98.1 %. perlu diingat bahwa dataset ini imbalance, dapat memprediksi dengan Recall sebesar 88.6 % dan F1-score 98.1 persen menurut saya merupakan model yang bagus."
   ]
  },
  {
   "cell_type": "markdown",
   "metadata": {},
   "source": [
    "# 5. KESIMPULAN"
   ]
  },
  {
   "cell_type": "markdown",
   "metadata": {},
   "source": [
    "Dari semua tahapan pembuatan model di atas, ada beberapa kesimpulan yang bisa diambil yaitu :\n",
    "\n",
    "1. Model terbaik adalah XGBoost dengan Micro Average PR AUC 99.7 %, Recall 88.6 %, Precission 97.9 % hasil paramter tunning sebagai berikut:\n",
    "    - colsample_bytree: 0.3,\n",
    "    - gamma: 0.2,\n",
    "    - learning_rate: 0.5,\n",
    "    - max_depth: 8,\n",
    "    - min_child_weight: 1\n",
    "2. 10 Variabel yang relefan atau berpengaruh terhadap target secara berurutan adalah:\n",
    "    1. EXT_SCORE_2\n",
    "    2. EDUCATION\n",
    "    3. PRICE\n",
    "    4. DAYS_WORK\n",
    "    5. DAYS_AGE\n",
    "    6. GENDER_F\n",
    "    7. DAYS_ID_CHANGE\n",
    "    8. ANNUITY\n",
    "    9. CONTRACT_TYPE\n",
    "    10. DAYS_REGISTRATION"
   ]
  }
 ],
 "metadata": {
  "kernelspec": {
   "display_name": "Python 3.6.5 ('CRM': virtualenv)",
   "language": "python",
   "name": "python3"
  },
  "language_info": {
   "codemirror_mode": {
    "name": "ipython",
    "version": 3
   },
   "file_extension": ".py",
   "mimetype": "text/x-python",
   "name": "python",
   "nbconvert_exporter": "python",
   "pygments_lexer": "ipython3",
   "version": "3.6.5"
  },
  "orig_nbformat": 4,
  "vscode": {
   "interpreter": {
    "hash": "4f36adfb9b7d0d97355b9e597d45316d0be2a849f8d68116c4f96cce0fd47e6a"
   }
  }
 },
 "nbformat": 4,
 "nbformat_minor": 2
}
